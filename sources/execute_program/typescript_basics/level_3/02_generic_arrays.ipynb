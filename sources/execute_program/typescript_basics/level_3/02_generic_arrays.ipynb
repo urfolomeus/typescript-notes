{
 "cells": [
  {
   "cell_type": "markdown",
   "metadata": {},
   "source": [
    "# Generic Arrays\n",
    "\n",
    "We can write array types with the syntax `string[]` or `number[]`, or we can use the syntax `Array<string>` or `Array<number>`. These types are interchangeable."
   ]
  },
  {
   "cell_type": "code",
   "execution_count": 1,
   "metadata": {},
   "outputs": [],
   "source": [
    "import { checkTypeScript } from \"../../../../utils/typechecker.ts\";\n"
   ]
  },
  {
   "cell_type": "code",
   "execution_count": 2,
   "metadata": {},
   "outputs": [
    {
     "name": "stdout",
     "output_type": "stream",
     "text": [
      "\u001b[0m\u001b[32mTypes are correct.\u001b[0m\n"
     ]
    }
   ],
   "source": [
    "let code = `\n",
    "let numbers: number[] = [1];\n",
    "let numbers2: Array<number> = numbers;\n",
    "`\n",
    "\n",
    "await checkTypeScript(code);"
   ]
  },
  {
   "cell_type": "code",
   "execution_count": 3,
   "metadata": {},
   "outputs": [
    {
     "name": "stdout",
     "output_type": "stream",
     "text": [
      "\u001b[0m\u001b[32mTypes are correct.\u001b[0m\n"
     ]
    }
   ],
   "source": [
    "let code = `\n",
    "let numbers: Array<number> = [1];\n",
    "let numbers2: number[] = numbers;\n",
    "`\n",
    "\n",
    "await checkTypeScript(code);"
   ]
  },
  {
   "cell_type": "markdown",
   "metadata": {},
   "source": [
    "The `Array<type>` form is an example of **generics**. We can think of Array as a type with a \"hole\" in it. An array of numbers, Array<number>, fills the hole with the number type. An array of strings, Array<string>, fills the hole with the string type.\n",
    "\n",
    "There's nothing special about arrays of numbers or arrays of strings. We can put any type in the hole, with no restrictions whatsoever."
   ]
  },
  {
   "cell_type": "code",
   "execution_count": 4,
   "metadata": {},
   "outputs": [
    {
     "name": "stdout",
     "output_type": "stream",
     "text": [
      "\u001b[0m\u001b[32mTypes are correct.\u001b[0m\n"
     ]
    }
   ],
   "source": [
    "let code = `\n",
    "let bools: Array<boolean> = [true, false];\n",
    "bools[0];\n",
    "`\n",
    "\n",
    "await checkTypeScript(code);"
   ]
  },
  {
   "cell_type": "markdown",
   "metadata": {},
   "source": [
    "## Arrays of arrays\n",
    "\n",
    "We can write the type for an array of arrays of strings as `string[][]` or we can write it as `Array<Array<string>>`."
   ]
  },
  {
   "cell_type": "code",
   "execution_count": 5,
   "metadata": {},
   "outputs": [
    {
     "name": "stdout",
     "output_type": "stream",
     "text": [
      "\u001b[0m\u001b[32mTypes are correct.\u001b[0m\n"
     ]
    }
   ],
   "source": [
    "let code = `\n",
    "let strings: string[][] = [[\"a\", \"b\"], [\"c\", \"d\"]];\n",
    "let strings2: Array<Array<string>> = strings;\n",
    "`\n",
    "\n",
    "await checkTypeScript(code);"
   ]
  }
 ],
 "metadata": {
  "kernelspec": {
   "display_name": "Deno",
   "language": "typescript",
   "name": "deno"
  },
  "language_info": {
   "codemirror_mode": "typescript",
   "file_extension": ".ts",
   "mimetype": "text/x.typescript",
   "name": "typescript",
   "nbconvert_exporter": "script",
   "pygments_lexer": "typescript",
   "version": "5.6.2"
  }
 },
 "nbformat": 4,
 "nbformat_minor": 2
}
