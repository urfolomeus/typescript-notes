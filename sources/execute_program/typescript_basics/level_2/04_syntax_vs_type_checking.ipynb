{
 "cells": [
  {
   "cell_type": "markdown",
   "metadata": {},
   "source": [
    "# Syntax Errors vs. Type Errors\n",
    "\n",
    "In JavaScript, any code with valid syntax will run. In TypeScript, code must have valid syntax and must type check. Only then will it run.\n",
    "\n",
    "JavaScript: syntax check -> execution.\n",
    "TypeScript: syntax check -> type check -> execution.\n",
    "\n",
    "What's the difference between a syntax error and a type error? We can think of it by analogy to English. \"Vase triangle avocado cat grape\" is not valid English syntax. Each of those words is part of English, but they can't be in that order. No English sentence can be made of five nouns in a row.\n",
    "\n",
    "Likewise, `function return class if var` is invalid TypeScript syntax. Each of those words is part of TypeScript, but they can't be in that order. If we try to compile that \"code\", the compiler rejects its syntax. The type checker never even runs.\n",
    "\n",
    "When our syntax is correct, the compiler checks semantics (types). \"That tree is angry\" is valid English syntax, but doesn't \"type check\". Trees can't be angry (outside of fantasy novels).\n",
    "\n",
    "In TypeScript, `a + b` is valid syntax. But if `a` is a number and `b` is a boolean, then `a + b` won't type check.\n"
   ]
  },
  {
   "cell_type": "code",
   "execution_count": 1,
   "metadata": {},
   "outputs": [],
   "source": [
    "import { checkTypeScript, runTypeScript } from \"../../../../utils/typechecker.ts\";\n"
   ]
  },
  {
   "cell_type": "code",
   "execution_count": 2,
   "metadata": {},
   "outputs": [
    {
     "name": "stderr",
     "output_type": "stream",
     "text": [
      "\u001b[0m\u001b[1m\u001b[31merror\u001b[0m: The module's source code could not be parsed: Expected ident at file:///var/folders/zf/zz1ks5y12dq092v3_0j1rcg00000gn/T/4d3650e54a5b79ab.ts:1:10\n",
      "\n",
      "  function return class if var\n",
      "           ~~~~~~\n"
     ]
    },
    {
     "name": "stdout",
     "output_type": "stream",
     "text": [
      "\u001b[0m\u001b[32mTypes are correct.\u001b[0m\n"
     ]
    }
   ],
   "source": [
    "// syntax error\n",
    "let code = `function return class if var`\n",
    "await runTypeScript(code)\n",
    "await checkTypeScript(code)\n"
   ]
  },
  {
   "cell_type": "code",
   "execution_count": 3,
   "metadata": {},
   "outputs": [
    {
     "name": "stdout",
     "output_type": "stream",
     "text": [
      "\u001b[0m\u001b[32mRan without errors... \u001b[0m \n",
      "\u001b[0m\u001b[32mTypes are correct.\u001b[0m\n"
     ]
    }
   ],
   "source": [
    "// no errors\n",
    "let code = `\n",
    "let a = 1\n",
    "let b = 2\n",
    "a + b\n",
    "`\n",
    "await runTypeScript(code)\n",
    "await checkTypeScript(code)\n"
   ]
  },
  {
   "cell_type": "code",
   "execution_count": 4,
   "metadata": {},
   "outputs": [
    {
     "name": "stdout",
     "output_type": "stream",
     "text": [
      "\u001b[0m\u001b[32mRan without errors... \u001b[0m \n",
      "\u001b[0m\u001b[1m\u001b[31merror\u001b[0m: \u001b[0m\u001b[1mTS2365 \u001b[0m[ERROR]: Operator '+' cannot be applied to types 'number' and 'boolean'.\n",
      "a + b\n",
      "\u001b[0m\u001b[31m~~~~~\u001b[0m\n",
      "    at \u001b[0m\u001b[36mfile:///var/folders/zf/zz1ks5y12dq092v3_0j1rcg00000gn/T/3f3d554b62fc567e.ts\u001b[0m:\u001b[0m\u001b[33m4\u001b[0m:\u001b[0m\u001b[33m1\u001b[0m\n"
     ]
    }
   ],
   "source": [
    "// type error\n",
    "let code = `\n",
    "let a = 1\n",
    "let b = true\n",
    "a + b\n",
    "`\n",
    "await runTypeScript(code)\n",
    "await checkTypeScript(code)\n"
   ]
  }
 ],
 "metadata": {
  "kernelspec": {
   "display_name": "Deno",
   "language": "typescript",
   "name": "deno"
  },
  "language_info": {
   "codemirror_mode": "typescript",
   "file_extension": ".ts",
   "mimetype": "text/x.typescript",
   "name": "typescript",
   "nbconvert_exporter": "script",
   "pygments_lexer": "typescript",
   "version": "5.6.2"
  }
 },
 "nbformat": 4,
 "nbformat_minor": 2
}
