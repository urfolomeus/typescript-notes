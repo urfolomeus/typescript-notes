{
 "cells": [
  {
   "cell_type": "markdown",
   "metadata": {},
   "source": [
    "# Inference\n",
    "\n",
    "Adding types to every variable would get tiresome. Fortunately, we can often avoid writing the types. TypeScript will determine them for us. We call this **type inference**, and we say that TypeScript **infers** types."
   ]
  },
  {
   "cell_type": "code",
   "execution_count": 4,
   "metadata": {},
   "outputs": [],
   "source": [
    "import { checkTypeScript } from '../../../../utils/typechecker.ts';"
   ]
  },
  {
   "cell_type": "code",
   "execution_count": 5,
   "metadata": {},
   "outputs": [
    {
     "name": "stdout",
     "output_type": "stream",
     "text": [
      "\u001b[0m\u001b[32mTypes are correct.\u001b[0m\n"
     ]
    }
   ],
   "source": [
    "await checkTypeScript(`let n = 2 + 1; n = 3;`)"
   ]
  },
  {
   "cell_type": "markdown",
   "metadata": {},
   "source": [
    "However, the types are still checked, even if they're not explicit."
   ]
  },
  {
   "cell_type": "code",
   "execution_count": 6,
   "metadata": {},
   "outputs": [
    {
     "name": "stdout",
     "output_type": "stream",
     "text": [
      "\u001b[0m\u001b[1m\u001b[31merror\u001b[0m: \u001b[0m\u001b[1mTS2322 \u001b[0m[ERROR]: Type 'string' is not assignable to type 'number'.\n",
      "let n = 2 + 1; n = 'hello';\n",
      "\u001b[0m\u001b[31m               ^\u001b[0m\n",
      "    at \u001b[0m\u001b[36mfile:///var/folders/zf/zz1ks5y12dq092v3_0j1rcg00000gn/T/5d6da17f3a6fbde6.ts\u001b[0m:\u001b[0m\u001b[33m1\u001b[0m:\u001b[0m\u001b[33m16\u001b[0m\n"
     ]
    }
   ],
   "source": [
    "// if we don't specify a type for a variable then TypeScript will infer it for us\n",
    "await checkTypeScript(`let n = 2 + 1; n = 'hello';`);\n"
   ]
  },
  {
   "cell_type": "markdown",
   "metadata": {},
   "source": [
    "# Return Type Inference\n",
    "\n",
    "Functions' return types can be inferred, which saves us from typing them out. As with all inference, the types still exist and are still enforced. Inference only means that the compiler can determine the types for us."
   ]
  },
  {
   "cell_type": "code",
   "execution_count": 7,
   "metadata": {},
   "outputs": [
    {
     "name": "stdout",
     "output_type": "stream",
     "text": [
      "\u001b[0m\u001b[32mTypes are correct.\u001b[0m\n"
     ]
    }
   ],
   "source": [
    "await checkTypeScript(`function two() { return 2; } two();`);\n"
   ]
  },
  {
   "cell_type": "code",
   "execution_count": 8,
   "metadata": {},
   "outputs": [
    {
     "name": "stdout",
     "output_type": "stream",
     "text": [
      "\u001b[0m\u001b[1m\u001b[31merror\u001b[0m: \u001b[0m\u001b[1mTS2322 \u001b[0m[ERROR]: Type 'number' is not assignable to type 'string'.\n",
      "function two() { return 2; } let s: string =two();\n",
      "\u001b[0m\u001b[31m                                 ^\u001b[0m\n",
      "    at \u001b[0m\u001b[36mfile:///var/folders/zf/zz1ks5y12dq092v3_0j1rcg00000gn/T/bace880696a30457.ts\u001b[0m:\u001b[0m\u001b[33m1\u001b[0m:\u001b[0m\u001b[33m34\u001b[0m\n"
     ]
    }
   ],
   "source": [
    "await checkTypeScript(`function two() { return 2; } let s: string =two();`);"
   ]
  }
 ],
 "metadata": {
  "kernelspec": {
   "display_name": "Deno",
   "language": "typescript",
   "name": "deno"
  },
  "language_info": {
   "codemirror_mode": "typescript",
   "file_extension": ".ts",
   "mimetype": "text/x.typescript",
   "name": "typescript",
   "nbconvert_exporter": "script",
   "pygments_lexer": "typescript",
   "version": "5.6.2"
  }
 },
 "nbformat": 4,
 "nbformat_minor": 2
}
