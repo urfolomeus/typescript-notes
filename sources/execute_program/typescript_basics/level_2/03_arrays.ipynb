{
 "cells": [
  {
   "cell_type": "markdown",
   "metadata": {},
   "source": [
    "# Arrays\n",
    "\n",
    "Array types are marked with `[]`, i.e. an array of numbers is `number[]`."
   ]
  },
  {
   "cell_type": "code",
   "execution_count": 1,
   "metadata": {},
   "outputs": [],
   "source": [
    "import { checkTypeScript } from '../../../../utils/typechecker.ts';"
   ]
  },
  {
   "cell_type": "code",
   "execution_count": 4,
   "metadata": {},
   "outputs": [
    {
     "name": "stdout",
     "output_type": "stream",
     "text": [
      "\u001b[0m\u001b[1m\u001b[31merror\u001b[0m: \u001b[0m\u001b[1mTS2322 \u001b[0m[ERROR]: Type 'number' is not assignable to type 'string'.\n",
      "let strings: string[] = ['a', 'b', 3];\n",
      "\u001b[0m\u001b[31m                                   ^\u001b[0m\n",
      "    at \u001b[0m\u001b[36mfile:///var/folders/zf/zz1ks5y12dq092v3_0j1rcg00000gn/T/b3fd61633131541d.ts\u001b[0m:\u001b[0m\u001b[33m1\u001b[0m:\u001b[0m\u001b[33m36\u001b[0m\n",
      "\u001b[0m\u001b[32mTypes are correct.\u001b[0m\n",
      "\u001b[0m\u001b[1m\u001b[31merror\u001b[0m: \u001b[0m\u001b[1mTS2322 \u001b[0m[ERROR]: Type 'string[]' is not assignable to type 'number[]'.\n",
      "  Type 'string' is not assignable to type 'number'.\n",
      "let strings: string[] = ['a', 'b', 'c']; let values = strings; let numbers: number[] = values;\n",
      "\u001b[0m\u001b[31m                                                                   ~~~~~~~\u001b[0m\n",
      "    at \u001b[0m\u001b[36mfile:///var/folders/zf/zz1ks5y12dq092v3_0j1rcg00000gn/T/f66abd08768acec.ts\u001b[0m:\u001b[0m\u001b[33m1\u001b[0m:\u001b[0m\u001b[33m68\u001b[0m\n"
     ]
    }
   ],
   "source": [
    "await checkTypeScript(`let strings: string[] = ['a', 'b', 3];`);\n",
    "await checkTypeScript(`let strings: string[] = ['a', 'b', 'c']; let values = strings; values;`);\n",
    "await checkTypeScript(`let strings: string[] = ['a', 'b', 'c']; let values = strings; let numbers: number[] = values;`);\n"
   ]
  },
  {
   "cell_type": "code",
   "execution_count": null,
   "metadata": {},
   "outputs": [],
   "source": []
  }
 ],
 "metadata": {
  "kernelspec": {
   "display_name": "Deno",
   "language": "typescript",
   "name": "deno"
  },
  "language_info": {
   "codemirror_mode": "typescript",
   "file_extension": ".ts",
   "mimetype": "text/x.typescript",
   "name": "typescript",
   "nbconvert_exporter": "script",
   "pygments_lexer": "typescript",
   "version": "5.6.2"
  }
 },
 "nbformat": 4,
 "nbformat_minor": 2
}
