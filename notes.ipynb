{
 "cells": [
  {
   "cell_type": "markdown",
   "metadata": {},
   "source": [
    "# Notes and Cheatsheet\n",
    "\n",
    "This is a summary of all the lessons learned so far."
   ]
  },
  {
   "cell_type": "code",
   "execution_count": 1,
   "metadata": {},
   "outputs": [],
   "source": [
    "// import the typechecker function so that we can demo type checking inline\n",
    "import { checkTypeScript } from './utils/typechecker.ts';\n"
   ]
  },
  {
   "cell_type": "markdown",
   "metadata": {},
   "source": [
    "## A note on type checking\n",
    "\n",
    "TypeScript does not prevent us from running code that will error at runtime.\n"
   ]
  },
  {
   "cell_type": "code",
   "execution_count": 2,
   "metadata": {},
   "outputs": [
    {
     "data": {
      "text/plain": [
       "\u001b[33mNaN\u001b[39m"
      ]
     },
     "execution_count": 2,
     "metadata": {},
     "output_type": "execute_result"
    }
   ],
   "source": [
    "const double = (x: number): number => x * 2;\n",
    "double('anything');\n"
   ]
  },
  {
   "cell_type": "markdown",
   "metadata": {},
   "source": [
    "We're still able to call `double('anything')` and get `NaN` in response, just as we would with JavaScript. It's only when we compile or use a typechecker (as we do with the `checkTypeScript` function) that we see the error for a non-number argument value.\n"
   ]
  },
  {
   "cell_type": "code",
   "execution_count": 3,
   "metadata": {},
   "outputs": [
    {
     "name": "stdout",
     "output_type": "stream",
     "text": [
      "\u001b[0m\u001b[1m\u001b[31merror\u001b[0m: \u001b[0m\u001b[1mTS2345 \u001b[0m[ERROR]: Argument of type 'string' is not assignable to parameter of type 'number'.\n",
      "const double = (x: number): number => x * 2; double('anything');\n",
      "\u001b[0m\u001b[31m                                                    ~~~~~~~~~~\u001b[0m\n",
      "    at \u001b[0m\u001b[36mfile:///var/folders/zf/zz1ks5y12dq092v3_0j1rcg00000gn/T/1a7b3c6bf43869d9.ts\u001b[0m:\u001b[0m\u001b[33m1\u001b[0m:\u001b[0m\u001b[33m53\u001b[0m\n"
     ]
    }
   ],
   "source": [
    "await checkTypeScript(`const double = (x: number): number => x * 2; double('anything');`);"
   ]
  },
  {
   "cell_type": "markdown",
   "metadata": {},
   "source": [
    "Our IDE may also provide type hints to help us."
   ]
  },
  {
   "cell_type": "markdown",
   "metadata": {},
   "source": [
    "## Variables"
   ]
  },
  {
   "cell_type": "code",
   "execution_count": 4,
   "metadata": {},
   "outputs": [
    {
     "data": {
      "text/plain": [
       "\u001b[33m3\u001b[39m"
      ]
     },
     "execution_count": 4,
     "metadata": {},
     "output_type": "execute_result"
    }
   ],
   "source": [
    "// type annotations\n",
    "let sum: number = 1 + 2;\n",
    "sum;"
   ]
  },
  {
   "cell_type": "code",
   "execution_count": 5,
   "metadata": {},
   "outputs": [
    {
     "name": "stdout",
     "output_type": "stream",
     "text": [
      "\u001b[0m\u001b[32mTypes are correct.\u001b[0m\n"
     ]
    }
   ],
   "source": [
    "// check the type of sum\n",
    "await checkTypeScript(`let sum: number = 1 + 2;`);\n"
   ]
  },
  {
   "cell_type": "code",
   "execution_count": 12,
   "metadata": {},
   "outputs": [
    {
     "data": {
      "text/plain": [
       "\u001b[32m\"anything\"\u001b[39m"
      ]
     },
     "execution_count": 12,
     "metadata": {},
     "output_type": "execute_result"
    }
   ],
   "source": [
    "// type annotations\n",
    "let sum: number = 'any' + 'thing';\n",
    "sum;"
   ]
  },
  {
   "cell_type": "code",
   "execution_count": 6,
   "metadata": {},
   "outputs": [
    {
     "name": "stdout",
     "output_type": "stream",
     "text": [
      "\u001b[0m\u001b[1m\u001b[31merror\u001b[0m: \u001b[0m\u001b[1mTS2322 \u001b[0m[ERROR]: Type 'string' is not assignable to type 'number'.\n",
      "let sum: number = 'any' + 'thing';\n",
      "\u001b[0m\u001b[31m    ~~~\u001b[0m\n",
      "    at \u001b[0m\u001b[36mfile:///var/folders/zf/zz1ks5y12dq092v3_0j1rcg00000gn/T/df98c115d5587a34.ts\u001b[0m:\u001b[0m\u001b[33m1\u001b[0m:\u001b[0m\u001b[33m5\u001b[0m\n"
     ]
    }
   ],
   "source": [
    "// type errors\n",
    "await checkTypeScript(`let sum: number = 'any' + 'thing';`);\n"
   ]
  },
  {
   "cell_type": "markdown",
   "metadata": {},
   "source": [
    "## Functions"
   ]
  },
  {
   "cell_type": "code",
   "execution_count": 7,
   "metadata": {},
   "outputs": [],
   "source": [
    "function add(a: number, b: number): number {\n",
    "  return a + b;\n",
    "}"
   ]
  },
  {
   "cell_type": "code",
   "execution_count": 8,
   "metadata": {},
   "outputs": [
    {
     "data": {
      "text/plain": [
       "\u001b[33m3\u001b[39m"
      ]
     },
     "execution_count": 8,
     "metadata": {},
     "output_type": "execute_result"
    }
   ],
   "source": [
    "add(1, 2);\n"
   ]
  },
  {
   "cell_type": "code",
   "execution_count": 9,
   "metadata": {},
   "outputs": [
    {
     "name": "stdout",
     "output_type": "stream",
     "text": [
      "\u001b[0m\u001b[32mTypes are correct.\u001b[0m\n"
     ]
    }
   ],
   "source": [
    "await checkTypeScript(`function add(a: number, b: number): number { return a + b; }; add(1, 2);`);\n"
   ]
  },
  {
   "cell_type": "markdown",
   "metadata": {},
   "source": [
    "### This is what TypeScript was designed for\n",
    "\n",
    "If we pass `true` in to the add function it appears to work, we get the number `2` as a result, but this is because JavaScript implicitly converts `true` to `1` (and `false` to `0`)."
   ]
  },
  {
   "cell_type": "code",
   "execution_count": 10,
   "metadata": {},
   "outputs": [
    {
     "data": {
      "text/plain": [
       "\u001b[33m2\u001b[39m"
      ]
     },
     "execution_count": 10,
     "metadata": {},
     "output_type": "execute_result"
    }
   ],
   "source": [
    "add(1, true)  // true is implicitly converted to 1 by the JavaScript runtime"
   ]
  },
  {
   "cell_type": "markdown",
   "metadata": {},
   "source": [
    "However, with the type checker (or compiler), will return an error because we're trying to use a boolean instead of a number."
   ]
  },
  {
   "cell_type": "code",
   "execution_count": 11,
   "metadata": {},
   "outputs": [
    {
     "name": "stdout",
     "output_type": "stream",
     "text": [
      "\u001b[0m\u001b[1m\u001b[31merror\u001b[0m: \u001b[0m\u001b[1mTS2345 \u001b[0m[ERROR]: Argument of type 'boolean' is not assignable to parameter of type 'number'.\n",
      "function add(a: number, b: number): number { return a + b; }; add(1, true);\n",
      "\u001b[0m\u001b[31m                                                                     ~~~~\u001b[0m\n",
      "    at \u001b[0m\u001b[36mfile:///var/folders/zf/zz1ks5y12dq092v3_0j1rcg00000gn/T/cb7e22a1a6726ea8.ts\u001b[0m:\u001b[0m\u001b[33m1\u001b[0m:\u001b[0m\u001b[33m70\u001b[0m\n"
     ]
    }
   ],
   "source": [
    "await checkTypeScript(`function add(a: number, b: number): number { return a + b; }; add(1, true);`);\n"
   ]
  }
 ],
 "metadata": {
  "kernelspec": {
   "display_name": "Deno",
   "language": "typescript",
   "name": "deno"
  },
  "language_info": {
   "codemirror_mode": "typescript",
   "file_extension": ".ts",
   "mimetype": "text/x.typescript",
   "name": "typescript",
   "nbconvert_exporter": "script",
   "pygments_lexer": "typescript",
   "version": "5.6.2"
  }
 },
 "nbformat": 4,
 "nbformat_minor": 2
}
