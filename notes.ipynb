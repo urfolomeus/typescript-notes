{
 "cells": [
  {
   "cell_type": "markdown",
   "metadata": {},
   "source": [
    "# Notes and Cheatsheet\n",
    "\n",
    "This is a summary of all the lessons learned so far."
   ]
  },
  {
   "cell_type": "markdown",
   "metadata": {},
   "source": [
    "In order to run applications we write in TypeScript, we need to compile the TypeScript files into JavaScript. We can either do this once with the `tsc` command, or we can watch (recursively) the current working directory with `tsc --watch` or `tsc -w`."
   ]
  },
  {
   "cell_type": "code",
   "execution_count": 38,
   "metadata": {},
   "outputs": [],
   "source": [
    "// import the typechecker function so that we can demo type checking inline\n",
    "import { checkTypeScript } from './utils/typechecker.ts';\n"
   ]
  },
  {
   "cell_type": "markdown",
   "metadata": {},
   "source": [
    "## A note on type checking\n",
    "\n",
    "TypeScript does not prevent us from running code that will error at runtime.\n"
   ]
  },
  {
   "cell_type": "code",
   "execution_count": 39,
   "metadata": {},
   "outputs": [
    {
     "data": {
      "text/plain": [
       "\u001b[33mNaN\u001b[39m"
      ]
     },
     "execution_count": 39,
     "metadata": {},
     "output_type": "execute_result"
    }
   ],
   "source": [
    "const double = (x: number): number => x * 2;\n",
    "double('anything');\n"
   ]
  },
  {
   "cell_type": "markdown",
   "metadata": {},
   "source": [
    "We're still able to call `double('anything')` and get `NaN` in response, just as we would with JavaScript. It's only when we compile or use a typechecker (as we do with the `checkTypeScript` function) that we see the error for a non-number argument value.\n"
   ]
  },
  {
   "cell_type": "code",
   "execution_count": 40,
   "metadata": {},
   "outputs": [
    {
     "name": "stdout",
     "output_type": "stream",
     "text": [
      "\u001b[0m\u001b[1m\u001b[31merror\u001b[0m: \u001b[0m\u001b[1mTS2345 \u001b[0m[ERROR]: Argument of type 'string' is not assignable to parameter of type 'number'.\n",
      "const double = (x: number): number => x * 2; double('anything');\n",
      "\u001b[0m\u001b[31m                                                    ~~~~~~~~~~\u001b[0m\n",
      "    at \u001b[0m\u001b[36mfile:///var/folders/kw/gm1hxsgn0xd5x25trdphvhpm0000gn/T/cd75eadd3c941810.ts\u001b[0m:\u001b[0m\u001b[33m1\u001b[0m:\u001b[0m\u001b[33m53\u001b[0m\n"
     ]
    }
   ],
   "source": [
    "await checkTypeScript(`const double = (x: number): number => x * 2; double('anything');`);"
   ]
  },
  {
   "cell_type": "markdown",
   "metadata": {},
   "source": [
    "Our IDE may also provide type hints to help us."
   ]
  },
  {
   "cell_type": "markdown",
   "metadata": {},
   "source": [
    "## Gotchas!\n",
    "\n",
    "There are some things that, as I learn them, I realize that I'm going to forget them over time. Usually they don't work as I intuitively expect them to, or are just things I can't wrap my head around."
   ]
  },
  {
   "cell_type": "markdown",
   "metadata": {},
   "source": [
    "### The keys in object literal types should be separated with semi-colons"
   ]
  },
  {
   "cell_type": "code",
   "execution_count": 70,
   "metadata": {},
   "outputs": [
    {
     "name": "stdout",
     "output_type": "stream",
     "text": [
      "\u001b[0m\u001b[32mTypes are correct.\u001b[0m\n",
      "\u001b[0m\u001b[32mTypes are correct.\u001b[0m\n"
     ]
    }
   ],
   "source": [
    "// in object literal types the keys are separated by semi-colons NOT commas\n",
    "await checkTypeScript(`\n",
    "  type Point = {\n",
    "    x: number;\n",
    "    y: number;\n",
    "  };\n",
    "  const point: Point = { x: 1, y: 2 };\n",
    "`);\n",
    "\n",
    "// we can use commas, but linters like Pretter will automatically convert them to semi-colons\n",
    "await checkTypeScript(`\n",
    "  type Point = {\n",
    "    x: number,\n",
    "    y: number\n",
    "  };\n",
    "  const point: Point = { x: 1, y: 2 };\n",
    "`);"
   ]
  },
  {
   "cell_type": "markdown",
   "metadata": {},
   "source": [
    "## Variables\n",
    "\n",
    "A variable has a type. The type is separated from the variable name with `:`."
   ]
  },
  {
   "cell_type": "code",
   "execution_count": 41,
   "metadata": {},
   "outputs": [
    {
     "data": {
      "text/plain": [
       "\u001b[33m3\u001b[39m"
      ]
     },
     "execution_count": 41,
     "metadata": {},
     "output_type": "execute_result"
    }
   ],
   "source": [
    "// type annotations\n",
    "let sum: number = 1 + 2;\n",
    "sum;"
   ]
  },
  {
   "cell_type": "code",
   "execution_count": 42,
   "metadata": {},
   "outputs": [
    {
     "name": "stdout",
     "output_type": "stream",
     "text": [
      "\u001b[0m\u001b[32mTypes are correct.\u001b[0m\n"
     ]
    }
   ],
   "source": [
    "// check the type of sum\n",
    "await checkTypeScript(`let sum: number = 1 + 2;`);\n"
   ]
  },
  {
   "cell_type": "code",
   "execution_count": 43,
   "metadata": {},
   "outputs": [
    {
     "data": {
      "text/plain": [
       "\u001b[32m\"anything\"\u001b[39m"
      ]
     },
     "execution_count": 43,
     "metadata": {},
     "output_type": "execute_result"
    }
   ],
   "source": [
    "// type annotations\n",
    "let sum: number = 'any' + 'thing';\n",
    "sum;"
   ]
  },
  {
   "cell_type": "code",
   "execution_count": 44,
   "metadata": {},
   "outputs": [
    {
     "name": "stdout",
     "output_type": "stream",
     "text": [
      "\u001b[0m\u001b[1m\u001b[31merror\u001b[0m: \u001b[0m\u001b[1mTS2322 \u001b[0m[ERROR]: Type 'string' is not assignable to type 'number'.\n",
      "let sum: number = 'any' + 'thing';\n",
      "\u001b[0m\u001b[31m    ~~~\u001b[0m\n",
      "    at \u001b[0m\u001b[36mfile:///var/folders/kw/gm1hxsgn0xd5x25trdphvhpm0000gn/T/1a2a09c7a23bf9e1.ts\u001b[0m:\u001b[0m\u001b[33m1\u001b[0m:\u001b[0m\u001b[33m5\u001b[0m\n"
     ]
    }
   ],
   "source": [
    "// type errors\n",
    "await checkTypeScript(`let sum: number = 'any' + 'thing';`);\n"
   ]
  },
  {
   "cell_type": "markdown",
   "metadata": {},
   "source": [
    "## Functions\n",
    "\n",
    "A function takes arguments, which have types. The function returns something, which also has a type. The types are marked with `:`, as they were for simple variables."
   ]
  },
  {
   "cell_type": "code",
   "execution_count": 45,
   "metadata": {},
   "outputs": [],
   "source": [
    "function add(a: number, b: number): number {\n",
    "  return a + b;\n",
    "}"
   ]
  },
  {
   "cell_type": "code",
   "execution_count": 46,
   "metadata": {},
   "outputs": [
    {
     "data": {
      "text/plain": [
       "\u001b[33m3\u001b[39m"
      ]
     },
     "execution_count": 46,
     "metadata": {},
     "output_type": "execute_result"
    }
   ],
   "source": [
    "add(1, 2);\n"
   ]
  },
  {
   "cell_type": "code",
   "execution_count": 47,
   "metadata": {},
   "outputs": [
    {
     "name": "stdout",
     "output_type": "stream",
     "text": [
      "\u001b[0m\u001b[32mTypes are correct.\u001b[0m\n"
     ]
    }
   ],
   "source": [
    "await checkTypeScript(`function add(a: number, b: number): number { return a + b; }; add(1, 2);`);\n"
   ]
  },
  {
   "cell_type": "markdown",
   "metadata": {},
   "source": [
    "**NOTE**: if we don't set a type explicitly for our params then they will default to `any`.\n",
    "\n",
    "**NOTE**: we need to declare the type for each param, even if two or more share the same type. For example, the following will make the type of `a` equal to `any` _not_ `number`:"
   ]
  },
  {
   "cell_type": "code",
   "execution_count": 48,
   "metadata": {},
   "outputs": [
    {
     "name": "stdout",
     "output_type": "stream",
     "text": [
      "\u001b[0m\u001b[1m\u001b[31merror\u001b[0m: \u001b[0m\u001b[1mTS7006 \u001b[0m[ERROR]: Parameter 'a' implicitly has an 'any' type.\n",
      "function add(a, b: number): number { return a + b; }; add(1, 2);\n",
      "\u001b[0m\u001b[31m             ^\u001b[0m\n",
      "    at \u001b[0m\u001b[36mfile:///var/folders/kw/gm1hxsgn0xd5x25trdphvhpm0000gn/T/a3751ae92cf28b16.ts\u001b[0m:\u001b[0m\u001b[33m1\u001b[0m:\u001b[0m\u001b[33m14\u001b[0m\n"
     ]
    }
   ],
   "source": [
    "await checkTypeScript(`function add(a, b: number): number { return a + b; }; add(1, 2);`);\n"
   ]
  },
  {
   "cell_type": "markdown",
   "metadata": {},
   "source": [
    "### This is what TypeScript was designed for\n",
    "\n",
    "If we pass `true` in to the add function it appears to work, we get the number `2` as a result, but this is because JavaScript implicitly converts `true` to `1` (and `false` to `0`)."
   ]
  },
  {
   "cell_type": "code",
   "execution_count": 49,
   "metadata": {},
   "outputs": [
    {
     "data": {
      "text/plain": [
       "\u001b[33m2\u001b[39m"
      ]
     },
     "execution_count": 49,
     "metadata": {},
     "output_type": "execute_result"
    }
   ],
   "source": [
    "add(1, true)  // true is implicitly converted to 1 by the JavaScript runtime"
   ]
  },
  {
   "cell_type": "markdown",
   "metadata": {},
   "source": [
    "However, with the type checker (or compiler), will return an error because we're trying to use a boolean instead of a number."
   ]
  },
  {
   "cell_type": "code",
   "execution_count": 50,
   "metadata": {},
   "outputs": [
    {
     "name": "stdout",
     "output_type": "stream",
     "text": [
      "\u001b[0m\u001b[1m\u001b[31merror\u001b[0m: \u001b[0m\u001b[1mTS2345 \u001b[0m[ERROR]: Argument of type 'boolean' is not assignable to parameter of type 'number'.\n",
      "function add(a: number, b: number): number { return a + b; }; add(1, true);\n",
      "\u001b[0m\u001b[31m                                                                     ~~~~\u001b[0m\n",
      "    at \u001b[0m\u001b[36mfile:///var/folders/kw/gm1hxsgn0xd5x25trdphvhpm0000gn/T/8339dbe3a79355ef.ts\u001b[0m:\u001b[0m\u001b[33m1\u001b[0m:\u001b[0m\u001b[33m70\u001b[0m\n"
     ]
    }
   ],
   "source": [
    "await checkTypeScript(`function add(a: number, b: number): number { return a + b; }; add(1, true);`);\n"
   ]
  },
  {
   "cell_type": "markdown",
   "metadata": {},
   "source": [
    "## Operators\n"
   ]
  },
  {
   "cell_type": "code",
   "execution_count": 51,
   "metadata": {},
   "outputs": [
    {
     "name": "stdout",
     "output_type": "stream",
     "text": [
      "2\n",
      "4\n",
      "11\n",
      "11\n",
      "11\n",
      "4\n",
      "2\n",
      "1\n",
      "1\n"
     ]
    }
   ],
   "source": [
    "// these should run just fine\n",
    "console.log(1 + 1);\n",
    "console.log(2 * 2);\n",
    "console.log('1' + '1'); // TypeScript allows string concatenation with `+`\n",
    "\n",
    "// NOTE: TypeScript will also allow mixed concatenation of strings and numbers\n",
    "console.log('1' + 1);\n",
    "console.log(1 + '1');\n",
    "\n",
    "// these should throw type errors but will \"work\" at runtime\n",
    "console.log('2' * '2');\n",
    "console.log('4' / '2');\n",
    "console.log(1 / '1');\n",
    "console.log('1' / 1);\n"
   ]
  },
  {
   "cell_type": "code",
   "execution_count": 52,
   "metadata": {},
   "outputs": [
    {
     "name": "stdout",
     "output_type": "stream",
     "text": [
      "\u001b[0m\u001b[32mTypes are correct.\u001b[0m\n",
      "\u001b[0m\u001b[32mTypes are correct.\u001b[0m\n",
      "\u001b[0m\u001b[32mTypes are correct.\u001b[0m\n",
      "\u001b[0m\u001b[32mTypes are correct.\u001b[0m\n",
      "\u001b[0m\u001b[32mTypes are correct.\u001b[0m\n",
      "\u001b[0m\u001b[1m\u001b[31merror\u001b[0m: \u001b[0m\u001b[1mTS2362 \u001b[0m[ERROR]: The left-hand side of an arithmetic operation must be of type 'any', 'number', 'bigint' or an enum type.\n",
      "console.log('2' * '2');\n",
      "\u001b[0m\u001b[31m            ~~~\u001b[0m\n",
      "    at \u001b[0m\u001b[36mfile:///var/folders/kw/gm1hxsgn0xd5x25trdphvhpm0000gn/T/b4675b280593635d.ts\u001b[0m:\u001b[0m\u001b[33m1\u001b[0m:\u001b[0m\u001b[33m13\u001b[0m\n",
      "\n",
      "\u001b[0m\u001b[1mTS2363 \u001b[0m[ERROR]: The right-hand side of an arithmetic operation must be of type 'any', 'number', 'bigint' or an enum type.\n",
      "console.log('2' * '2');\n",
      "\u001b[0m\u001b[31m                  ~~~\u001b[0m\n",
      "    at \u001b[0m\u001b[36mfile:///var/folders/kw/gm1hxsgn0xd5x25trdphvhpm0000gn/T/b4675b280593635d.ts\u001b[0m:\u001b[0m\u001b[33m1\u001b[0m:\u001b[0m\u001b[33m19\u001b[0m\n",
      "\n",
      "Found 2 errors.\n",
      "\u001b[0m\u001b[1m\u001b[31merror\u001b[0m: \u001b[0m\u001b[1mTS2362 \u001b[0m[ERROR]: The left-hand side of an arithmetic operation must be of type 'any', 'number', 'bigint' or an enum type.\n",
      "console.log('4' / '2');\n",
      "\u001b[0m\u001b[31m            ~~~\u001b[0m\n",
      "    at \u001b[0m\u001b[36mfile:///var/folders/kw/gm1hxsgn0xd5x25trdphvhpm0000gn/T/e6d501046a6ed106.ts\u001b[0m:\u001b[0m\u001b[33m1\u001b[0m:\u001b[0m\u001b[33m13\u001b[0m\n",
      "\n",
      "\u001b[0m\u001b[1mTS2363 \u001b[0m[ERROR]: The right-hand side of an arithmetic operation must be of type 'any', 'number', 'bigint' or an enum type.\n",
      "console.log('4' / '2');\n",
      "\u001b[0m\u001b[31m                  ~~~\u001b[0m\n",
      "    at \u001b[0m\u001b[36mfile:///var/folders/kw/gm1hxsgn0xd5x25trdphvhpm0000gn/T/e6d501046a6ed106.ts\u001b[0m:\u001b[0m\u001b[33m1\u001b[0m:\u001b[0m\u001b[33m19\u001b[0m\n",
      "\n",
      "Found 2 errors.\n",
      "\u001b[0m\u001b[1m\u001b[31merror\u001b[0m: \u001b[0m\u001b[1mTS2363 \u001b[0m[ERROR]: The right-hand side of an arithmetic operation must be of type 'any', 'number', 'bigint' or an enum type.\n",
      "console.log(1 / '1');\n",
      "\u001b[0m\u001b[31m                ~~~\u001b[0m\n",
      "    at \u001b[0m\u001b[36mfile:///var/folders/kw/gm1hxsgn0xd5x25trdphvhpm0000gn/T/c345f72b2b0fd70e.ts\u001b[0m:\u001b[0m\u001b[33m1\u001b[0m:\u001b[0m\u001b[33m17\u001b[0m\n",
      "\u001b[0m\u001b[1m\u001b[31merror\u001b[0m: \u001b[0m\u001b[1mTS2362 \u001b[0m[ERROR]: The left-hand side of an arithmetic operation must be of type 'any', 'number', 'bigint' or an enum type.\n",
      "console.log('1' / 1);\n",
      "\u001b[0m\u001b[31m            ~~~\u001b[0m\n",
      "    at \u001b[0m\u001b[36mfile:///var/folders/kw/gm1hxsgn0xd5x25trdphvhpm0000gn/T/2493eb3a005b0328.ts\u001b[0m:\u001b[0m\u001b[33m1\u001b[0m:\u001b[0m\u001b[33m13\u001b[0m\n"
     ]
    }
   ],
   "source": [
    "// these should check just fine\n",
    "await checkTypeScript(`console.log(1 + 1);`);\n",
    "await checkTypeScript(`console.log(2 * 2);`);\n",
    "await checkTypeScript(`console.log('1' + '1');`); // TypeScript allows string concatenation with `+`\n",
    "\n",
    "// NOTE: TypeScript will also allow mixed concatenation of strings and numbers\n",
    "await checkTypeScript(`console.log('1' + 1);`);\n",
    "await checkTypeScript(`console.log(1 + '1');`);\n",
    "\n",
    "// these should throw type errors\n",
    "await checkTypeScript(`console.log('2' * '2');`);\n",
    "await checkTypeScript(`console.log('4' / '2');`);\n",
    "await checkTypeScript(`console.log(1 / '1');`);\n",
    "await checkTypeScript(`console.log('1' / 1);`);\n"
   ]
  },
  {
   "cell_type": "markdown",
   "metadata": {},
   "source": [
    "# Types\n",
    "\n",
    "Types, also known as **type aliases**, can be defined using the `type` keyword. Types are idiomatically named using `UpperCamelCase`."
   ]
  },
  {
   "cell_type": "code",
   "execution_count": 53,
   "metadata": {},
   "outputs": [
    {
     "data": {
      "text/plain": [
       "\u001b[32m\"Hello, world!\"\u001b[39m"
      ]
     },
     "execution_count": 53,
     "metadata": {},
     "output_type": "execute_result"
    }
   ],
   "source": [
    "type MyStringType = string;\n",
    "let myString: MyStringType = 'Hello, world!';\n",
    "myString;"
   ]
  },
  {
   "cell_type": "markdown",
   "metadata": {},
   "source": [
    "## The \"types\" of types\n",
    "\n",
    "TypeScript has different types of types that it can use. [This page](https://www.typescriptlang.org/docs/handbook/2/everyday-types.html) in the TypeScript docs explains them.\n"
   ]
  },
  {
   "cell_type": "markdown",
   "metadata": {},
   "source": [
    "## Type Erasure\n",
    "\n",
    "The TypeScript compiler works by reading through a TypeScript file and looking for any type annotations. It checks any types it finds and then **removes the TypeScript code** turning it into plain JavaScript.\n",
    "\n",
    "This means that our runtime code contains no TypeScript, so we can't do things like inspect types at runtime."
   ]
  },
  {
   "cell_type": "markdown",
   "metadata": {},
   "source": [
    "## Generic Types\n",
    "\n",
    "We can declare our own generic types as follows:"
   ]
  },
  {
   "cell_type": "code",
   "execution_count": 54,
   "metadata": {},
   "outputs": [
    {
     "name": "stdout",
     "output_type": "stream",
     "text": [
      "\u001b[0m\u001b[32mTypes are correct.\u001b[0m\n",
      "\u001b[0m\u001b[32mTypes are correct.\u001b[0m\n",
      "\u001b[0m\u001b[1m\u001b[31merror\u001b[0m: \u001b[0m\u001b[1mTS2322 \u001b[0m[ERROR]: Type 'string' is not assignable to type 'number'.\n",
      "  let myPants: Pants<number> = {left: 1, right: 'wallet'}; myPants;\n",
      "\u001b[0m\u001b[31m                                         ~~~~~\u001b[0m\n",
      "    at \u001b[0m\u001b[36mfile:///var/folders/kw/gm1hxsgn0xd5x25trdphvhpm0000gn/T/5b45a3ca48f02dd4.ts\u001b[0m:\u001b[0m\u001b[33m3\u001b[0m:\u001b[0m\u001b[33m42\u001b[0m\n",
      "\n",
      "    The expected type comes from property 'right' which is declared here on type 'Pants<number>'\n",
      "      type Pants<T> = {left: T, right: T};\n",
      "    \u001b[0m\u001b[36m                            ~~~~~\u001b[0m\n",
      "        at \u001b[0m\u001b[36mfile:///var/folders/kw/gm1hxsgn0xd5x25trdphvhpm0000gn/T/5b45a3ca48f02dd4.ts\u001b[0m:\u001b[0m\u001b[33m2\u001b[0m:\u001b[0m\u001b[33m29\u001b[0m\n"
     ]
    }
   ],
   "source": [
    "// Let's model a pair of pants with left and right pockets...\n",
    "\n",
    "// ... in this instance, both pockets must contain the same type, but that type can be anything we want\n",
    "await checkTypeScript(`\n",
    "  type Pants<T> = {left: T, right: T};\n",
    "  let myPants: Pants<number> = {left: 1, right: 2}; myPants;\n",
    "`);\n",
    "\n",
    "await checkTypeScript(`\n",
    "  type Pants<T> = {left: T, right: T};\n",
    "  let myPants: Pants<string> = {left: 'phone', right: 'wallet'}; myPants;\n",
    "`);\n",
    "\n",
    "await checkTypeScript(`\n",
    "  type Pants<T> = {left: T, right: T};\n",
    "  let myPants: Pants<number> = {left: 1, right: 'wallet'}; myPants;\n",
    "`);"
   ]
  },
  {
   "cell_type": "code",
   "execution_count": 55,
   "metadata": {},
   "outputs": [
    {
     "name": "stdout",
     "output_type": "stream",
     "text": [
      "\u001b[0m\u001b[32mTypes are correct.\u001b[0m\n",
      "\u001b[0m\u001b[32mTypes are correct.\u001b[0m\n",
      "\u001b[0m\u001b[1m\u001b[31merror\u001b[0m: \u001b[0m\u001b[1mTS2322 \u001b[0m[ERROR]: Type 'number' is not assignable to type 'string'.\n",
      "  let myPants: Pants<number, string> = {left: 1, right: 2}; myPants;\n",
      "\u001b[0m\u001b[31m                                                 ~~~~~\u001b[0m\n",
      "    at \u001b[0m\u001b[36mfile:///var/folders/kw/gm1hxsgn0xd5x25trdphvhpm0000gn/T/6266924ca8822edf.ts\u001b[0m:\u001b[0m\u001b[33m3\u001b[0m:\u001b[0m\u001b[33m50\u001b[0m\n",
      "\n",
      "    The expected type comes from property 'right' which is declared here on type 'Pants<number, string>'\n",
      "      type Pants<T1, T2> = {left: T1, right: T2};\n",
      "    \u001b[0m\u001b[36m                                  ~~~~~\u001b[0m\n",
      "        at \u001b[0m\u001b[36mfile:///var/folders/kw/gm1hxsgn0xd5x25trdphvhpm0000gn/T/6266924ca8822edf.ts\u001b[0m:\u001b[0m\u001b[33m2\u001b[0m:\u001b[0m\u001b[33m35\u001b[0m\n"
     ]
    }
   ],
   "source": [
    "// Now let's model a pair of pants with left and right pockets that can contain different types...\n",
    "await checkTypeScript(`\n",
    "  type Pants<T1, T2> = {left: T1, right: T2};\n",
    "  let myPants: Pants<number, number> = {left: 1, right: 2}; myPants;\n",
    "`);\n",
    "\n",
    "await checkTypeScript(`\n",
    "  type Pants<T1, T2> = {left: T1, right: T2};\n",
    "  let myPants: Pants<number, string> = {left: 1, right: 'wallet'}; myPants;\n",
    "`);\n",
    "\n",
    "await checkTypeScript(`\n",
    "  type Pants<T1, T2> = {left: T1, right: T2};\n",
    "  let myPants: Pants<number, string> = {left: 1, right: 2}; myPants;\n",
    "`);"
   ]
  },
  {
   "cell_type": "code",
   "execution_count": 56,
   "metadata": {},
   "outputs": [
    {
     "data": {
      "text/plain": [
       "{ left: \u001b[33m1\u001b[39m, right: \u001b[32m\"wallet\"\u001b[39m }"
      ]
     },
     "execution_count": 56,
     "metadata": {},
     "output_type": "execute_result"
    }
   ],
   "source": [
    "// Using rather than typechecking...\n",
    "type Pants<T1, T2> = {left: T1, right: T2};\n",
    "let myPants: Pants<number, string> = {left: 1, right: 'wallet'};\n",
    "myPants;"
   ]
  },
  {
   "cell_type": "markdown",
   "metadata": {},
   "source": [
    "## Union Types\n",
    "\n",
    "Sometimes we want to allow multiple type options to be available. For this, we can use **union types**. A union type says \"the type can either be a or b or c\"."
   ]
  },
  {
   "cell_type": "code",
   "execution_count": 57,
   "metadata": {},
   "outputs": [
    {
     "name": "stdout",
     "output_type": "stream",
     "text": [
      "\u001b[0m\u001b[32mTypes are correct.\u001b[0m\n",
      "\u001b[0m\u001b[32mTypes are correct.\u001b[0m\n",
      "\u001b[0m\u001b[1m\u001b[31merror\u001b[0m: \u001b[0m\u001b[1mTS2322 \u001b[0m[ERROR]: Type 'boolean' is not assignable to type 'string | number'.\n",
      "let myVar: string | number = true;\n",
      "\u001b[0m\u001b[31m    ~~~~~\u001b[0m\n",
      "    at \u001b[0m\u001b[36mfile:///var/folders/kw/gm1hxsgn0xd5x25trdphvhpm0000gn/T/b6484127cf39b4bf.ts\u001b[0m:\u001b[0m\u001b[33m1\u001b[0m:\u001b[0m\u001b[33m5\u001b[0m\n"
     ]
    }
   ],
   "source": [
    "// Given a union type of string | number, we can assign a string or a number to a variable of that type\n",
    "await checkTypeScript(`let myVar: string | number = 'a string';`);\n",
    "await checkTypeScript(`let myVar: string | number = 42;`);\n",
    "\n",
    "// However, we can't assign any other type, such as a boolean\n",
    "await checkTypeScript(`let myVar: string | number = true;`);"
   ]
  },
  {
   "cell_type": "markdown",
   "metadata": {},
   "source": [
    "## Optional Types\n",
    "\n",
    "Sometimes we want to have optional arguments to a function. How might we annotate those?"
   ]
  },
  {
   "cell_type": "code",
   "execution_count": 58,
   "metadata": {},
   "outputs": [
    {
     "name": "stdout",
     "output_type": "stream",
     "text": [
      "\u001b[0m\u001b[1m\u001b[31merror\u001b[0m: \u001b[0m\u001b[1mTS2554 \u001b[0m[ERROR]: Expected 2 arguments, but got 1.\n",
      "  concat('hello');\n",
      "\u001b[0m\u001b[31m  ~~~~~~\u001b[0m\n",
      "    at \u001b[0m\u001b[36mfile:///var/folders/kw/gm1hxsgn0xd5x25trdphvhpm0000gn/T/b7a0f5b5dc227b39.ts\u001b[0m:\u001b[0m\u001b[33m14\u001b[0m:\u001b[0m\u001b[33m3\u001b[0m\n",
      "\n",
      "    An argument for 'last' was not provided.\n",
      "      function concat(first: string, last: string): string {\n",
      "    \u001b[0m\u001b[36m                                 ~~~~~~~~~~~~\u001b[0m\n",
      "        at \u001b[0m\u001b[36mfile:///var/folders/kw/gm1hxsgn0xd5x25trdphvhpm0000gn/T/b7a0f5b5dc227b39.ts\u001b[0m:\u001b[0m\u001b[33m2\u001b[0m:\u001b[0m\u001b[33m34\u001b[0m\n"
     ]
    }
   ],
   "source": [
    "// If we annotate the type based on what we expect to be passed in,\n",
    "// we will fail a type check if we don't pass in both arguments\n",
    "await checkTypeScript(`\n",
    "  function concat(first: string, last: string): string {\n",
    "    if (!last) {\n",
    "      return first;\n",
    "    }\n",
    "\n",
    "    return first + ' ' + last;\n",
    "  }\n",
    "\n",
    "  // this will run just fine\n",
    "  concat('hello', 'world');\n",
    "\n",
    "  // this will throw a type error\n",
    "  concat('hello');\n",
    "`);"
   ]
  },
  {
   "cell_type": "code",
   "execution_count": 59,
   "metadata": {},
   "outputs": [
    {
     "name": "stdout",
     "output_type": "stream",
     "text": [
      "\u001b[0m\u001b[32mTypes are correct.\u001b[0m\n"
     ]
    }
   ],
   "source": [
    "// We can use an option type to allow for undefined values\n",
    "// (note we use `?:` rather than `:` in the function signature)\n",
    "await checkTypeScript(`\n",
    "  function concat(first: string, last?: string): string {\n",
    "    if (!last) {\n",
    "      return first;\n",
    "    }\n",
    "\n",
    "    return first + ' ' + last;\n",
    "  }\n",
    "\n",
    "  // these both work fine now\n",
    "  concat('hello', 'world');\n",
    "  concat('hello');\n",
    "`);"
   ]
  },
  {
   "cell_type": "markdown",
   "metadata": {},
   "source": [
    "The optional type is not just syntactic sugar for `string | undefined` as I first thought. Using that type signature would mean we would have to call the function like `concat(\"hello\", undefined)`. Calling `concat(\"hello\")` would still fail the type check."
   ]
  },
  {
   "cell_type": "code",
   "execution_count": 60,
   "metadata": {},
   "outputs": [
    {
     "name": "stdout",
     "output_type": "stream",
     "text": [
      "\u001b[0m\u001b[1m\u001b[31merror\u001b[0m: \u001b[0m\u001b[1mTS2554 \u001b[0m[ERROR]: Expected 2 arguments, but got 1.\n",
      "  concat('hello');\n",
      "\u001b[0m\u001b[31m  ~~~~~~\u001b[0m\n",
      "    at \u001b[0m\u001b[36mfile:///var/folders/kw/gm1hxsgn0xd5x25trdphvhpm0000gn/T/1fe3f646a4c22ba9.ts\u001b[0m:\u001b[0m\u001b[33m11\u001b[0m:\u001b[0m\u001b[33m3\u001b[0m\n",
      "\n",
      "    An argument for 'last' was not provided.\n",
      "      function concat(first: string, last: string | undefined): string {\n",
      "    \u001b[0m\u001b[36m                                 ~~~~~~~~~~~~~~~~~~~~~~~~\u001b[0m\n",
      "        at \u001b[0m\u001b[36mfile:///var/folders/kw/gm1hxsgn0xd5x25trdphvhpm0000gn/T/1fe3f646a4c22ba9.ts\u001b[0m:\u001b[0m\u001b[33m2\u001b[0m:\u001b[0m\u001b[33m34\u001b[0m\n"
     ]
    }
   ],
   "source": [
    "await checkTypeScript(`\n",
    "  function concat(first: string, last: string | undefined): string {\n",
    "    if (!last) {\n",
    "      return first;\n",
    "    }\n",
    "\n",
    "    return first + ' ' + last;\n",
    "  }\n",
    "\n",
    "  // this will throw a type error because the function still expects two arguments\n",
    "  concat('hello');\n",
    "`);"
   ]
  },
  {
   "cell_type": "markdown",
   "metadata": {},
   "source": [
    "We _can_ still pass in `undefined` if we want to when using optional types though..."
   ]
  },
  {
   "cell_type": "code",
   "execution_count": 61,
   "metadata": {},
   "outputs": [
    {
     "name": "stdout",
     "output_type": "stream",
     "text": [
      "\u001b[0m\u001b[32mTypes are correct.\u001b[0m\n"
     ]
    }
   ],
   "source": [
    "await checkTypeScript(`\n",
    "  function concat(first: string, last?: string): string {\n",
    "    if (!last) {\n",
    "      return first;\n",
    "    }\n",
    "\n",
    "    return first + ' ' + last;\n",
    "  }\n",
    "\n",
    "  // these will both work fine\n",
    "  concat('hello');\n",
    "  concat('hello', undefined);\n",
    "`);"
   ]
  },
  {
   "cell_type": "markdown",
   "metadata": {},
   "source": [
    "## Type Guards\n",
    "\n",
    "If a function uses **union types** we can optionally further set type guarantees within the function by using **type guards**.\n",
    "\n",
    "In the following example `Array.isArray()` is a type guard when used in an `if`. It guarantees that the code within its block will only run if `userOrUsers` is an array. Similarly, the `else` will only run if `userOrUsers` is _not_ an array. TypeScript knows that these amount to type guards. The `if` block only runs for type `User[]` and the else block only runs for type `User`."
   ]
  },
  {
   "cell_type": "code",
   "execution_count": 62,
   "metadata": {},
   "outputs": [
    {
     "name": "stdout",
     "output_type": "stream",
     "text": [
      "\u001b[0m\u001b[1m\u001b[31merror\u001b[0m: \u001b[0m\u001b[1mTS2339 \u001b[0m[ERROR]: Property 'name' does not exist on type 'User[]'.\n",
      "  userOrUsers.name;\n",
      "\u001b[0m\u001b[31m              ~~~~\u001b[0m\n",
      "    at \u001b[0m\u001b[36mfile:///var/folders/kw/gm1hxsgn0xd5x25trdphvhpm0000gn/T/47b7e0f5ee56be12.ts\u001b[0m:\u001b[0m\u001b[33m16\u001b[0m:\u001b[0m\u001b[33m15\u001b[0m\n",
      "\u001b[0m\u001b[1m\u001b[31merror\u001b[0m: \u001b[0m\u001b[1mTS2339 \u001b[0m[ERROR]: Property 'length' does not exist on type 'User'.\n",
      "  userOrUsers.length;\n",
      "\u001b[0m\u001b[31m              ~~~~~~\u001b[0m\n",
      "    at \u001b[0m\u001b[36mfile:///var/folders/kw/gm1hxsgn0xd5x25trdphvhpm0000gn/T/de56e33f9d0f24d4.ts\u001b[0m:\u001b[0m\u001b[33m16\u001b[0m:\u001b[0m\u001b[33m15\u001b[0m\n",
      "\u001b[0m\u001b[32mTypes are correct.\u001b[0m\n"
     ]
    },
    {
     "data": {
      "text/plain": [
       "\u001b[32m\"name: Amir, length: 2\"\u001b[39m"
      ]
     },
     "execution_count": 62,
     "metadata": {},
     "output_type": "execute_result"
    }
   ],
   "source": [
    "await checkTypeScript(`\n",
    "  type User = { name: string };\n",
    "\n",
    "  function nameOrLength(userOrUsers: User | User[]): string | number {\n",
    "    if (Array.isArray(userOrUsers)) {\n",
    "      // Inside this side of the if, userOrUsers' type is User[].\n",
    "      return userOrUsers.length;\n",
    "    } else {\n",
    "      // Inside this side of the if, userOrUsers' type is User.\n",
    "      return userOrUsers.name;\n",
    "    }\n",
    "  }\n",
    "\n",
    "  const userOrUsers: User | User[] = [{name: 'Amir'}];\n",
    "  // we cannot call name on userOrUsers because it could be an array\n",
    "  userOrUsers.name;\n",
    "`);\n",
    "\n",
    "await checkTypeScript(`\n",
    "  type User = { name: string };\n",
    "\n",
    "  function nameOrLength(userOrUsers: User | User[]): string | number {\n",
    "    if (Array.isArray(userOrUsers)) {\n",
    "      // Inside this side of the if, userOrUsers' type is User[].\n",
    "      return userOrUsers.length;\n",
    "    } else {\n",
    "      // Inside this side of the if, userOrUsers' type is User.\n",
    "      return userOrUsers.name;\n",
    "    }\n",
    "  }\n",
    "\n",
    "  const userOrUsers: User | User[] = {name: 'Amir'};\n",
    "  // we cannot call length on userOrUsers because it could be a User\n",
    "  userOrUsers.length;\n",
    "`);\n",
    "\n",
    "await checkTypeScript(`\n",
    "  type User = { name: string };\n",
    "\n",
    "  function nameOrLength(userOrUsers: User | User[]): string | number {\n",
    "    if (Array.isArray(userOrUsers)) {\n",
    "      // Inside this side of the if, userOrUsers' type is User[].\n",
    "      return userOrUsers.length;\n",
    "    } else {\n",
    "      // Inside this side of the if, userOrUsers' type is User.\n",
    "      return userOrUsers.name;\n",
    "    }\n",
    "  }\n",
    "\n",
    "  // however we can call nameOrLength with a user or an array of users and it will work\n",
    "  nameOrLength({name: 'Amir'});\n",
    "  nameOrLength([{name: 'Amir'}, {name: 'Betty'}]);\n",
    "`);\n",
    "\n",
    "type User = { name: string };\n",
    "\n",
    "function nameOrLength(userOrUsers: User | User[]): string | number {\n",
    "  if (Array.isArray(userOrUsers)) {\n",
    "    // Inside this side of the if, userOrUsers' type is User[].\n",
    "    return userOrUsers.length;\n",
    "  } else {\n",
    "    // Inside this side of the if, userOrUsers' type is User.\n",
    "    return userOrUsers.name;\n",
    "  }\n",
    "}\n",
    "\n",
    "const name: string = nameOrLength({name: 'Amir'});\n",
    "const length: number = nameOrLength([{name: 'Amir'}, {name: 'Betty'}]);\n",
    "\n",
    "`name: ${name}, length: ${length}`;"
   ]
  },
  {
   "cell_type": "markdown",
   "metadata": {},
   "source": [
    "## Impossible Conditions\n",
    "\n",
    "As well as using `if` statements as type guards, TypeScript can also help us to avoid conditional statements that can never be true. We can see this easily with literals..."
   ]
  },
  {
   "cell_type": "code",
   "execution_count": 63,
   "metadata": {},
   "outputs": [
    {
     "name": "stdout",
     "output_type": "stream",
     "text": [
      "\u001b[0m\u001b[1m\u001b[31merror\u001b[0m: \u001b[0m\u001b[1mTS2367 \u001b[0m[ERROR]: This comparison appears to be unintentional because the types '1' and '0' have no overlap.\n",
      "  if (1 === 0) {\n",
      "\u001b[0m\u001b[31m      ~~~~~~~\u001b[0m\n",
      "    at \u001b[0m\u001b[36mfile:///var/folders/kw/gm1hxsgn0xd5x25trdphvhpm0000gn/T/4f1787f4d1e1fbf5.ts\u001b[0m:\u001b[0m\u001b[33m3\u001b[0m:\u001b[0m\u001b[33m7\u001b[0m\n",
      "\u001b[0m\u001b[1m\u001b[31merror\u001b[0m: \u001b[0m\u001b[1mTS2367 \u001b[0m[ERROR]: This comparison appears to be unintentional because the types '\"a\"' and '\"b\"' have no overlap.\n",
      "  if ('a' === 'b') {\n",
      "\u001b[0m\u001b[31m      ~~~~~~~~~~~\u001b[0m\n",
      "    at \u001b[0m\u001b[36mfile:///var/folders/kw/gm1hxsgn0xd5x25trdphvhpm0000gn/T/9581670677c13c8a.ts\u001b[0m:\u001b[0m\u001b[33m3\u001b[0m:\u001b[0m\u001b[33m7\u001b[0m\n"
     ]
    }
   ],
   "source": [
    "await checkTypeScript(`\n",
    "  let s;\n",
    "  if (1 === 0) {\n",
    "    s = 'it worked';\n",
    "  }\n",
    "  s;\n",
    "`);\n",
    "\n",
    "await checkTypeScript(`\n",
    "  let s;\n",
    "  if ('a' === 'b') {\n",
    "    s = 'it worked';\n",
    "  }\n",
    "  s;\n",
    "`);"
   ]
  },
  {
   "cell_type": "markdown",
   "metadata": {},
   "source": [
    "or even with custom types..."
   ]
  },
  {
   "cell_type": "code",
   "execution_count": 64,
   "metadata": {},
   "outputs": [
    {
     "name": "stdout",
     "output_type": "stream",
     "text": [
      "\u001b[0m\u001b[1m\u001b[31merror\u001b[0m: \u001b[0m\u001b[1mTS2367 \u001b[0m[ERROR]: This comparison appears to be unintentional because the types '{ userName: string; }' and '{ albumName: string; }' have no overlap.\n",
      "  if (amir === kindOfBlue) {\n",
      "\u001b[0m\u001b[31m      ~~~~~~~~~~~~~~~~~~~\u001b[0m\n",
      "    at \u001b[0m\u001b[36mfile:///var/folders/kw/gm1hxsgn0xd5x25trdphvhpm0000gn/T/99091e24f0fe784e.ts\u001b[0m:\u001b[0m\u001b[33m10\u001b[0m:\u001b[0m\u001b[33m7\u001b[0m\n"
     ]
    }
   ],
   "source": [
    "await checkTypeScript(`\n",
    "  type User = { userName: string };\n",
    "  type album = { albumName: string };\n",
    "\n",
    "  const amir = { userName: 'Amir' };\n",
    "  const kindOfBlue = { albumName: 'Kind of Blue' };\n",
    "\n",
    "  let s: string;\n",
    "\n",
    "  if (amir === kindOfBlue) {\n",
    "    // This won't run because the condition is a type error\n",
    "    s = \"They're the same!\";\n",
    "  } else {\n",
    "    // This won't run either\n",
    "    s = \"They're not the same!\";\n",
    "  }\n",
    "`);"
   ]
  },
  {
   "cell_type": "markdown",
   "metadata": {},
   "source": [
    "In the error, we see the phrase \"have no overlap\". This means that the types do not have enough in common to be able to be compared.\n",
    "\n",
    "This might lead us to believe that if we have two custom types with the same properties, that they would overlap enough to be considered valid..."
   ]
  },
  {
   "cell_type": "code",
   "execution_count": 65,
   "metadata": {},
   "outputs": [
    {
     "name": "stdout",
     "output_type": "stream",
     "text": [
      "\u001b[0m\u001b[32mTypes are correct.\u001b[0m\n"
     ]
    },
    {
     "data": {
      "text/plain": [
       "\u001b[32m\"They're not the same!\"\u001b[39m"
      ]
     },
     "execution_count": 65,
     "metadata": {},
     "output_type": "execute_result"
    }
   ],
   "source": [
    "await checkTypeScript(`\n",
    "  type User = { name: string };\n",
    "  type Album = { name: string };\n",
    "\n",
    "  const amir = { name: 'Amir' };\n",
    "  const kindOfBlue = { name: 'Kind of Blue' };\n",
    "\n",
    "  let s: string;\n",
    "\n",
    "  if (amir === kindOfBlue) {\n",
    "    s = \"They're the same!\";\n",
    "  } else {\n",
    "    s = \"They're not the same!\";\n",
    "  }\n",
    "`);\n",
    "\n",
    "type User = { name: string };\n",
    "  type Album = { name: string };\n",
    "\n",
    "  const amir = { name: 'Amir' };\n",
    "  const kindOfBlue = { name: 'Kind of Blue' };\n",
    "\n",
    "  let s: string;\n",
    "\n",
    "  if (amir === kindOfBlue) {\n",
    "    s = \"They're the same!\";\n",
    "  } else {\n",
    "    s = \"They're not the same!\";\n",
    "  }\n",
    "\n",
    "  s;"
   ]
  },
  {
   "cell_type": "markdown",
   "metadata": {},
   "source": [
    "... and we'd be right! The types can be compared here because they have an overlap of a `name` key.\n",
    "\n",
    "TypeScript doesn't compare _values_ to do this though, just _types_. This means that some conditionals that we know will never match won't be caught by TypeScript because the types are compatible (or at least don't make the comparison impossible). As we can see from the above example, `amir` and `kindOfBlue` are not the same, even though their types are comparable."
   ]
  },
  {
   "cell_type": "code",
   "execution_count": 66,
   "metadata": {},
   "outputs": [
    {
     "name": "stdout",
     "output_type": "stream",
     "text": [
      "\u001b[0m\u001b[32mTypes are correct.\u001b[0m\n"
     ]
    },
    {
     "data": {
      "text/plain": [
       "\u001b[32m\"they are not equal\"\u001b[39m"
      ]
     },
     "execution_count": 66,
     "metadata": {},
     "output_type": "execute_result"
    }
   ],
   "source": [
    "await checkTypeScript(`\n",
    "  const zero: number = 0;\n",
    "  const one: number = 1;\n",
    "\n",
    "  let s;\n",
    "  if (zero === one) {\n",
    "    s = 'they are equal';\n",
    "  } else {\n",
    "    s = 'they are not equal';\n",
    "  }\n",
    "  s;\n",
    "`);\n",
    "\n",
    "const zero: number = 0;\n",
    "const one: number = 1;\n",
    "\n",
    "let s;\n",
    "if (zero === one) {\n",
    "  s = 'they are equal';\n",
    "} else {\n",
    "  s = 'they are not equal';\n",
    "}\n",
    "s;"
   ]
  },
  {
   "cell_type": "markdown",
   "metadata": {},
   "source": [
    "We know that `zero` and `one` can never be the same, but TypeScript would need to check the values to know that and so it thinks the conditition might be true. As far as the compiler knows `zero` or `one` could hold any `number`."
   ]
  },
  {
   "cell_type": "code",
   "execution_count": 67,
   "metadata": {},
   "outputs": [
    {
     "name": "stdout",
     "output_type": "stream",
     "text": [
      "\u001b[0m\u001b[32mTypes are correct.\u001b[0m\n"
     ]
    },
    {
     "data": {
      "text/plain": [
       "\u001b[32m\"they are not equal\"\u001b[39m"
      ]
     },
     "execution_count": 67,
     "metadata": {},
     "output_type": "execute_result"
    }
   ],
   "source": [
    "await checkTypeScript(`\n",
    "  let s;\n",
    "  if ('' + 'a' === 'b') {\n",
    "    s = 'they are equal';\n",
    "  } else {\n",
    "    s = 'they are not equal';\n",
    "  }\n",
    "  s;\n",
    "`);\n",
    "\n",
    "let s;\n",
    "if ('' + 'a' === 'b') {\n",
    "  s = 'they are equal';\n",
    "} else {\n",
    "  s = 'they are not equal';\n",
    "}\n",
    "s;"
   ]
  },
  {
   "cell_type": "markdown",
   "metadata": {},
   "source": [
    "This is a more tricky one. In TypeScript, whenever we concatentate a string with a string using `+` we get back a string. Even though we're concatenating with the literal `'a'` here, the result will still be a regular string and so TypeScript will assume that the condition is valid because it is possible for that string to be the literal `'b'`."
   ]
  }
 ],
 "metadata": {
  "kernelspec": {
   "display_name": "Deno",
   "language": "typescript",
   "name": "deno"
  },
  "language_info": {
   "codemirror_mode": "typescript",
   "file_extension": ".ts",
   "mimetype": "text/x.typescript",
   "name": "typescript",
   "nbconvert_exporter": "script",
   "pygments_lexer": "typescript",
   "version": "5.6.2"
  }
 },
 "nbformat": 4,
 "nbformat_minor": 2
}
