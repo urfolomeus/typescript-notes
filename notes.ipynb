{
 "cells": [
  {
   "cell_type": "markdown",
   "metadata": {},
   "source": [
    "# Notes and Cheatsheet\n",
    "\n",
    "This is a summary of all the lessons learned so far."
   ]
  },
  {
   "cell_type": "code",
   "execution_count": 4,
   "metadata": {},
   "outputs": [],
   "source": [
    "// import the typechecker function so that we can demo type checking inline\n",
    "import { checkTypeScript } from './utils/typechecker.ts';\n"
   ]
  },
  {
   "cell_type": "code",
   "execution_count": 7,
   "metadata": {},
   "outputs": [],
   "source": [
    "async function checkTypeScriptCode(code: string) {\n",
    "  const result = await checkTypeScript(code);\n",
    "  console.log(result);\n",
    "}\n"
   ]
  },
  {
   "cell_type": "code",
   "execution_count": 9,
   "metadata": {},
   "outputs": [
    {
     "data": {
      "text/plain": [
       "\u001b[33m3\u001b[39m"
      ]
     },
     "execution_count": 9,
     "metadata": {},
     "output_type": "execute_result"
    }
   ],
   "source": [
    "// type annotations\n",
    "let sum: number = 1 + 2;\n",
    "sum;"
   ]
  },
  {
   "cell_type": "code",
   "execution_count": 11,
   "metadata": {},
   "outputs": [
    {
     "name": "stdout",
     "output_type": "stream",
     "text": [
      "\u001b[0m\u001b[32mCheck\u001b[0m file:///var/folders/zf/zz1ks5y12dq092v3_0j1rcg00000gn/T/f777d7e3614d428a.ts\n"
     ]
    }
   ],
   "source": [
    "// check the type of sum\n",
    "await checkTypeScriptCode(`let sum: number = 1 + 2;`);\n"
   ]
  },
  {
   "cell_type": "code",
   "execution_count": 12,
   "metadata": {},
   "outputs": [
    {
     "name": "stdout",
     "output_type": "stream",
     "text": [
      "\u001b[0m\u001b[32mCheck\u001b[0m file:///var/folders/zf/zz1ks5y12dq092v3_0j1rcg00000gn/T/6025e48d78f3bda.ts\n",
      "\u001b[0m\u001b[1m\u001b[31merror\u001b[0m: \u001b[0m\u001b[1mTS2322 \u001b[0m[ERROR]: Type 'string' is not assignable to type 'number'.\n",
      "let sum: number = 'any' + 'thing';\n",
      "\u001b[0m\u001b[31m    ~~~\u001b[0m\n",
      "    at \u001b[0m\u001b[36mfile:///var/folders/zf/zz1ks5y12dq092v3_0j1rcg00000gn/T/6025e48d78f3bda.ts\u001b[0m:\u001b[0m\u001b[33m1\u001b[0m:\u001b[0m\u001b[33m5\u001b[0m\n"
     ]
    }
   ],
   "source": [
    "// type errors\n",
    "await checkTypeScriptCode(`let sum: number = 'any' + 'thing';`);\n"
   ]
  }
 ],
 "metadata": {
  "kernelspec": {
   "display_name": "Deno",
   "language": "typescript",
   "name": "deno"
  },
  "language_info": {
   "codemirror_mode": "typescript",
   "file_extension": ".ts",
   "mimetype": "text/x.typescript",
   "name": "typescript",
   "nbconvert_exporter": "script",
   "pygments_lexer": "typescript",
   "version": "5.6.2"
  }
 },
 "nbformat": 4,
 "nbformat_minor": 2
}
