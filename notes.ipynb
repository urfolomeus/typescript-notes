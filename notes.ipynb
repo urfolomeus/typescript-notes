{
 "cells": [
  {
   "cell_type": "markdown",
   "metadata": {},
   "source": [
    "# Notes and Cheatsheet\n",
    "\n",
    "This is a summary of all the lessons learned so far."
   ]
  },
  {
   "cell_type": "markdown",
   "metadata": {},
   "source": [
    "In order to run applications we write in TypeScript, we need to compile the TypeScript files into JavaScript. We can either do this once with the `tsc` command, or we can watch (recursively) the current working directory with `tsc --watch` or `tsc -w`."
   ]
  },
  {
   "cell_type": "code",
   "execution_count": 33,
   "metadata": {},
   "outputs": [],
   "source": [
    "// import the typechecker function so that we can demo type checking inline\n",
    "import { checkTypeScript } from './utils/typechecker.ts';\n"
   ]
  },
  {
   "cell_type": "markdown",
   "metadata": {},
   "source": [
    "## A note on type checking\n",
    "\n",
    "TypeScript does not prevent us from running code that will error at runtime.\n"
   ]
  },
  {
   "cell_type": "code",
   "execution_count": 34,
   "metadata": {},
   "outputs": [
    {
     "data": {
      "text/plain": [
       "\u001b[33mNaN\u001b[39m"
      ]
     },
     "execution_count": 34,
     "metadata": {},
     "output_type": "execute_result"
    }
   ],
   "source": [
    "const double = (x: number): number => x * 2;\n",
    "double('anything');\n"
   ]
  },
  {
   "cell_type": "markdown",
   "metadata": {},
   "source": [
    "We're still able to call `double('anything')` and get `NaN` in response, just as we would with JavaScript. It's only when we compile or use a typechecker (as we do with the `checkTypeScript` function) that we see the error for a non-number argument value.\n"
   ]
  },
  {
   "cell_type": "code",
   "execution_count": 35,
   "metadata": {},
   "outputs": [
    {
     "name": "stdout",
     "output_type": "stream",
     "text": [
      "\u001b[0m\u001b[1m\u001b[31merror\u001b[0m: \u001b[0m\u001b[1mTS2345 \u001b[0m[ERROR]: Argument of type 'string' is not assignable to parameter of type 'number'.\n",
      "const double = (x: number): number => x * 2; double('anything');\n",
      "\u001b[0m\u001b[31m                                                    ~~~~~~~~~~\u001b[0m\n",
      "    at \u001b[0m\u001b[36mfile:///var/folders/kw/gm1hxsgn0xd5x25trdphvhpm0000gn/T/fb0dc9419505c323.ts\u001b[0m:\u001b[0m\u001b[33m1\u001b[0m:\u001b[0m\u001b[33m53\u001b[0m\n"
     ]
    }
   ],
   "source": [
    "await checkTypeScript(`const double = (x: number): number => x * 2; double('anything');`);"
   ]
  },
  {
   "cell_type": "markdown",
   "metadata": {},
   "source": [
    "Our IDE may also provide type hints to help us."
   ]
  },
  {
   "cell_type": "markdown",
   "metadata": {},
   "source": [
    "## Variables\n",
    "\n",
    "A variable has a type. The type is separated from the variable name with `:`."
   ]
  },
  {
   "cell_type": "code",
   "execution_count": 36,
   "metadata": {},
   "outputs": [
    {
     "data": {
      "text/plain": [
       "\u001b[33m3\u001b[39m"
      ]
     },
     "execution_count": 36,
     "metadata": {},
     "output_type": "execute_result"
    }
   ],
   "source": [
    "// type annotations\n",
    "let sum: number = 1 + 2;\n",
    "sum;"
   ]
  },
  {
   "cell_type": "code",
   "execution_count": 37,
   "metadata": {},
   "outputs": [
    {
     "name": "stdout",
     "output_type": "stream",
     "text": [
      "\u001b[0m\u001b[32mTypes are correct.\u001b[0m\n"
     ]
    }
   ],
   "source": [
    "// check the type of sum\n",
    "await checkTypeScript(`let sum: number = 1 + 2;`);\n"
   ]
  },
  {
   "cell_type": "code",
   "execution_count": 38,
   "metadata": {},
   "outputs": [
    {
     "data": {
      "text/plain": [
       "\u001b[32m\"anything\"\u001b[39m"
      ]
     },
     "execution_count": 38,
     "metadata": {},
     "output_type": "execute_result"
    }
   ],
   "source": [
    "// type annotations\n",
    "let sum: number = 'any' + 'thing';\n",
    "sum;"
   ]
  },
  {
   "cell_type": "code",
   "execution_count": 39,
   "metadata": {},
   "outputs": [
    {
     "name": "stdout",
     "output_type": "stream",
     "text": [
      "\u001b[0m\u001b[1m\u001b[31merror\u001b[0m: \u001b[0m\u001b[1mTS2322 \u001b[0m[ERROR]: Type 'string' is not assignable to type 'number'.\n",
      "let sum: number = 'any' + 'thing';\n",
      "\u001b[0m\u001b[31m    ~~~\u001b[0m\n",
      "    at \u001b[0m\u001b[36mfile:///var/folders/kw/gm1hxsgn0xd5x25trdphvhpm0000gn/T/48af2d794d55453c.ts\u001b[0m:\u001b[0m\u001b[33m1\u001b[0m:\u001b[0m\u001b[33m5\u001b[0m\n"
     ]
    }
   ],
   "source": [
    "// type errors\n",
    "await checkTypeScript(`let sum: number = 'any' + 'thing';`);\n"
   ]
  },
  {
   "cell_type": "markdown",
   "metadata": {},
   "source": [
    "## Functions\n",
    "\n",
    "A function takes arguments, which have types. The function returns something, which also has a type. The types are marked with `:`, as they were for simple variables."
   ]
  },
  {
   "cell_type": "code",
   "execution_count": 40,
   "metadata": {},
   "outputs": [],
   "source": [
    "function add(a: number, b: number): number {\n",
    "  return a + b;\n",
    "}"
   ]
  },
  {
   "cell_type": "code",
   "execution_count": 41,
   "metadata": {},
   "outputs": [
    {
     "data": {
      "text/plain": [
       "\u001b[33m3\u001b[39m"
      ]
     },
     "execution_count": 41,
     "metadata": {},
     "output_type": "execute_result"
    }
   ],
   "source": [
    "add(1, 2);\n"
   ]
  },
  {
   "cell_type": "code",
   "execution_count": 42,
   "metadata": {},
   "outputs": [
    {
     "name": "stdout",
     "output_type": "stream",
     "text": [
      "\u001b[0m\u001b[32mTypes are correct.\u001b[0m\n"
     ]
    }
   ],
   "source": [
    "await checkTypeScript(`function add(a: number, b: number): number { return a + b; }; add(1, 2);`);\n"
   ]
  },
  {
   "cell_type": "markdown",
   "metadata": {},
   "source": [
    "**NOTE**: if we don't set a type explicitly for our params then they will default to `any`.\n",
    "\n",
    "**NOTE**: we need to declare the type for each param, even if two or more share the same type. For example, the following will make the type of `a` equal to `any` _not_ `number`:"
   ]
  },
  {
   "cell_type": "code",
   "execution_count": 43,
   "metadata": {},
   "outputs": [
    {
     "name": "stdout",
     "output_type": "stream",
     "text": [
      "\u001b[0m\u001b[1m\u001b[31merror\u001b[0m: \u001b[0m\u001b[1mTS7006 \u001b[0m[ERROR]: Parameter 'a' implicitly has an 'any' type.\n",
      "function add(a, b: number): number { return a + b; }; add(1, 2);\n",
      "\u001b[0m\u001b[31m             ^\u001b[0m\n",
      "    at \u001b[0m\u001b[36mfile:///var/folders/kw/gm1hxsgn0xd5x25trdphvhpm0000gn/T/f17a333676d255e5.ts\u001b[0m:\u001b[0m\u001b[33m1\u001b[0m:\u001b[0m\u001b[33m14\u001b[0m\n"
     ]
    }
   ],
   "source": [
    "await checkTypeScript(`function add(a, b: number): number { return a + b; }; add(1, 2);`);\n"
   ]
  },
  {
   "cell_type": "markdown",
   "metadata": {},
   "source": [
    "### This is what TypeScript was designed for\n",
    "\n",
    "If we pass `true` in to the add function it appears to work, we get the number `2` as a result, but this is because JavaScript implicitly converts `true` to `1` (and `false` to `0`)."
   ]
  },
  {
   "cell_type": "code",
   "execution_count": 44,
   "metadata": {},
   "outputs": [
    {
     "data": {
      "text/plain": [
       "\u001b[33m2\u001b[39m"
      ]
     },
     "execution_count": 44,
     "metadata": {},
     "output_type": "execute_result"
    }
   ],
   "source": [
    "add(1, true)  // true is implicitly converted to 1 by the JavaScript runtime"
   ]
  },
  {
   "cell_type": "markdown",
   "metadata": {},
   "source": [
    "However, with the type checker (or compiler), will return an error because we're trying to use a boolean instead of a number."
   ]
  },
  {
   "cell_type": "code",
   "execution_count": 45,
   "metadata": {},
   "outputs": [
    {
     "name": "stdout",
     "output_type": "stream",
     "text": [
      "\u001b[0m\u001b[1m\u001b[31merror\u001b[0m: \u001b[0m\u001b[1mTS2345 \u001b[0m[ERROR]: Argument of type 'boolean' is not assignable to parameter of type 'number'.\n",
      "function add(a: number, b: number): number { return a + b; }; add(1, true);\n",
      "\u001b[0m\u001b[31m                                                                     ~~~~\u001b[0m\n",
      "    at \u001b[0m\u001b[36mfile:///var/folders/kw/gm1hxsgn0xd5x25trdphvhpm0000gn/T/a33b77d7743d5cc7.ts\u001b[0m:\u001b[0m\u001b[33m1\u001b[0m:\u001b[0m\u001b[33m70\u001b[0m\n"
     ]
    }
   ],
   "source": [
    "await checkTypeScript(`function add(a: number, b: number): number { return a + b; }; add(1, true);`);\n"
   ]
  },
  {
   "cell_type": "markdown",
   "metadata": {},
   "source": [
    "## Operators\n"
   ]
  },
  {
   "cell_type": "code",
   "execution_count": 46,
   "metadata": {},
   "outputs": [
    {
     "name": "stdout",
     "output_type": "stream",
     "text": [
      "2\n",
      "4\n",
      "11\n",
      "11\n",
      "11\n",
      "4\n",
      "2\n",
      "1\n",
      "1\n"
     ]
    }
   ],
   "source": [
    "// these should run just fine\n",
    "console.log(1 + 1);\n",
    "console.log(2 * 2);\n",
    "console.log('1' + '1'); // TypeScript allows string concatenation with `+`\n",
    "\n",
    "// NOTE: TypeScript will also allow mixed concatenation of strings and numbers\n",
    "console.log('1' + 1);\n",
    "console.log(1 + '1');\n",
    "\n",
    "// these should throw type errors but will \"work\" at runtime\n",
    "console.log('2' * '2');\n",
    "console.log('4' / '2');\n",
    "console.log(1 / '1');\n",
    "console.log('1' / 1);\n"
   ]
  },
  {
   "cell_type": "code",
   "execution_count": 47,
   "metadata": {},
   "outputs": [
    {
     "name": "stdout",
     "output_type": "stream",
     "text": [
      "\u001b[0m\u001b[32mTypes are correct.\u001b[0m\n",
      "\u001b[0m\u001b[32mTypes are correct.\u001b[0m\n",
      "\u001b[0m\u001b[32mTypes are correct.\u001b[0m\n",
      "\u001b[0m\u001b[32mTypes are correct.\u001b[0m\n",
      "\u001b[0m\u001b[32mTypes are correct.\u001b[0m\n",
      "\u001b[0m\u001b[1m\u001b[31merror\u001b[0m: \u001b[0m\u001b[1mTS2362 \u001b[0m[ERROR]: The left-hand side of an arithmetic operation must be of type 'any', 'number', 'bigint' or an enum type.\n",
      "console.log('2' * '2');\n",
      "\u001b[0m\u001b[31m            ~~~\u001b[0m\n",
      "    at \u001b[0m\u001b[36mfile:///var/folders/kw/gm1hxsgn0xd5x25trdphvhpm0000gn/T/9709d4e42c4ed469.ts\u001b[0m:\u001b[0m\u001b[33m1\u001b[0m:\u001b[0m\u001b[33m13\u001b[0m\n",
      "\n",
      "\u001b[0m\u001b[1mTS2363 \u001b[0m[ERROR]: The right-hand side of an arithmetic operation must be of type 'any', 'number', 'bigint' or an enum type.\n",
      "console.log('2' * '2');\n",
      "\u001b[0m\u001b[31m                  ~~~\u001b[0m\n",
      "    at \u001b[0m\u001b[36mfile:///var/folders/kw/gm1hxsgn0xd5x25trdphvhpm0000gn/T/9709d4e42c4ed469.ts\u001b[0m:\u001b[0m\u001b[33m1\u001b[0m:\u001b[0m\u001b[33m19\u001b[0m\n",
      "\n",
      "Found 2 errors.\n",
      "\u001b[0m\u001b[1m\u001b[31merror\u001b[0m: \u001b[0m\u001b[1mTS2362 \u001b[0m[ERROR]: The left-hand side of an arithmetic operation must be of type 'any', 'number', 'bigint' or an enum type.\n",
      "console.log('4' / '2');\n",
      "\u001b[0m\u001b[31m            ~~~\u001b[0m\n",
      "    at \u001b[0m\u001b[36mfile:///var/folders/kw/gm1hxsgn0xd5x25trdphvhpm0000gn/T/2d10366797a0d8e8.ts\u001b[0m:\u001b[0m\u001b[33m1\u001b[0m:\u001b[0m\u001b[33m13\u001b[0m\n",
      "\n",
      "\u001b[0m\u001b[1mTS2363 \u001b[0m[ERROR]: The right-hand side of an arithmetic operation must be of type 'any', 'number', 'bigint' or an enum type.\n",
      "console.log('4' / '2');\n",
      "\u001b[0m\u001b[31m                  ~~~\u001b[0m\n",
      "    at \u001b[0m\u001b[36mfile:///var/folders/kw/gm1hxsgn0xd5x25trdphvhpm0000gn/T/2d10366797a0d8e8.ts\u001b[0m:\u001b[0m\u001b[33m1\u001b[0m:\u001b[0m\u001b[33m19\u001b[0m\n",
      "\n",
      "Found 2 errors.\n",
      "\u001b[0m\u001b[1m\u001b[31merror\u001b[0m: \u001b[0m\u001b[1mTS2363 \u001b[0m[ERROR]: The right-hand side of an arithmetic operation must be of type 'any', 'number', 'bigint' or an enum type.\n",
      "console.log(1 / '1');\n",
      "\u001b[0m\u001b[31m                ~~~\u001b[0m\n",
      "    at \u001b[0m\u001b[36mfile:///var/folders/kw/gm1hxsgn0xd5x25trdphvhpm0000gn/T/7fd7d5bf2a9db744.ts\u001b[0m:\u001b[0m\u001b[33m1\u001b[0m:\u001b[0m\u001b[33m17\u001b[0m\n",
      "\u001b[0m\u001b[1m\u001b[31merror\u001b[0m: \u001b[0m\u001b[1mTS2362 \u001b[0m[ERROR]: The left-hand side of an arithmetic operation must be of type 'any', 'number', 'bigint' or an enum type.\n",
      "console.log('1' / 1);\n",
      "\u001b[0m\u001b[31m            ~~~\u001b[0m\n",
      "    at \u001b[0m\u001b[36mfile:///var/folders/kw/gm1hxsgn0xd5x25trdphvhpm0000gn/T/39819ba44cb17b09.ts\u001b[0m:\u001b[0m\u001b[33m1\u001b[0m:\u001b[0m\u001b[33m13\u001b[0m\n"
     ]
    }
   ],
   "source": [
    "// these should check just fine\n",
    "await checkTypeScript(`console.log(1 + 1);`);\n",
    "await checkTypeScript(`console.log(2 * 2);`);\n",
    "await checkTypeScript(`console.log('1' + '1');`); // TypeScript allows string concatenation with `+`\n",
    "\n",
    "// NOTE: TypeScript will also allow mixed concatenation of strings and numbers\n",
    "await checkTypeScript(`console.log('1' + 1);`);\n",
    "await checkTypeScript(`console.log(1 + '1');`);\n",
    "\n",
    "// these should throw type errors\n",
    "await checkTypeScript(`console.log('2' * '2');`);\n",
    "await checkTypeScript(`console.log('4' / '2');`);\n",
    "await checkTypeScript(`console.log(1 / '1');`);\n",
    "await checkTypeScript(`console.log('1' / 1);`);\n"
   ]
  },
  {
   "cell_type": "markdown",
   "metadata": {},
   "source": [
    "# Types\n",
    "\n",
    "Types can be defined using the `type` keyword. Types are idiomatically named using `UpperCamelCase`."
   ]
  },
  {
   "cell_type": "code",
   "execution_count": 48,
   "metadata": {},
   "outputs": [
    {
     "data": {
      "text/plain": [
       "\u001b[32m\"Hello, world!\"\u001b[39m"
      ]
     },
     "execution_count": 48,
     "metadata": {},
     "output_type": "execute_result"
    }
   ],
   "source": [
    "type MyStringType = string;\n",
    "let myString: MyStringType = 'Hello, world!';\n",
    "myString;"
   ]
  },
  {
   "cell_type": "markdown",
   "metadata": {},
   "source": [
    "## The \"types\" of types\n",
    "\n",
    "TypeScript has different types of types that it can use. [This page](https://www.typescriptlang.org/docs/handbook/2/everyday-types.html) in the TypeScript docs explains them.\n"
   ]
  },
  {
   "cell_type": "markdown",
   "metadata": {},
   "source": [
    "## Type Erasure\n",
    "\n",
    "The TypeScript compiler works by reading through a TypeScript file and looking for any type annotations. It checks any types it finds and then **removes the TypeScript code** turning it into plain JavaScript.\n",
    "\n",
    "This means that our runtime code contains no TypeScript, so we can't do things like inspect types at runtime."
   ]
  },
  {
   "cell_type": "markdown",
   "metadata": {},
   "source": [
    "## Generic Types\n",
    "\n",
    "We can declare our own generic types as follows:"
   ]
  },
  {
   "cell_type": "code",
   "execution_count": 49,
   "metadata": {},
   "outputs": [
    {
     "name": "stdout",
     "output_type": "stream",
     "text": [
      "\u001b[0m\u001b[32mTypes are correct.\u001b[0m\n",
      "\u001b[0m\u001b[32mTypes are correct.\u001b[0m\n",
      "\u001b[0m\u001b[1m\u001b[31merror\u001b[0m: \u001b[0m\u001b[1mTS2322 \u001b[0m[ERROR]: Type 'string' is not assignable to type 'number'.\n",
      "  let myPants: Pants<number> = {left: 1, right: 'wallet'}; myPants;\n",
      "\u001b[0m\u001b[31m                                         ~~~~~\u001b[0m\n",
      "    at \u001b[0m\u001b[36mfile:///var/folders/kw/gm1hxsgn0xd5x25trdphvhpm0000gn/T/f37ddf9891e2e0ea.ts\u001b[0m:\u001b[0m\u001b[33m3\u001b[0m:\u001b[0m\u001b[33m42\u001b[0m\n",
      "\n",
      "    The expected type comes from property 'right' which is declared here on type 'Pants<number>'\n",
      "      type Pants<T> = {left: T, right: T};\n",
      "    \u001b[0m\u001b[36m                            ~~~~~\u001b[0m\n",
      "        at \u001b[0m\u001b[36mfile:///var/folders/kw/gm1hxsgn0xd5x25trdphvhpm0000gn/T/f37ddf9891e2e0ea.ts\u001b[0m:\u001b[0m\u001b[33m2\u001b[0m:\u001b[0m\u001b[33m29\u001b[0m\n"
     ]
    }
   ],
   "source": [
    "// Let's model a pair of pants with left and right pockets...\n",
    "\n",
    "// ... in this instance, both pockets must contain the same type, but that type can be anything we want\n",
    "await checkTypeScript(`\n",
    "  type Pants<T> = {left: T, right: T};\n",
    "  let myPants: Pants<number> = {left: 1, right: 2}; myPants;\n",
    "`);\n",
    "\n",
    "await checkTypeScript(`\n",
    "  type Pants<T> = {left: T, right: T};\n",
    "  let myPants: Pants<string> = {left: 'phone', right: 'wallet'}; myPants;\n",
    "`);\n",
    "\n",
    "await checkTypeScript(`\n",
    "  type Pants<T> = {left: T, right: T};\n",
    "  let myPants: Pants<number> = {left: 1, right: 'wallet'}; myPants;\n",
    "`);"
   ]
  },
  {
   "cell_type": "code",
   "execution_count": 50,
   "metadata": {},
   "outputs": [
    {
     "name": "stdout",
     "output_type": "stream",
     "text": [
      "\u001b[0m\u001b[32mTypes are correct.\u001b[0m\n",
      "\u001b[0m\u001b[32mTypes are correct.\u001b[0m\n",
      "\u001b[0m\u001b[1m\u001b[31merror\u001b[0m: \u001b[0m\u001b[1mTS2322 \u001b[0m[ERROR]: Type 'number' is not assignable to type 'string'.\n",
      "  let myPants: Pants<number, string> = {left: 1, right: 2}; myPants;\n",
      "\u001b[0m\u001b[31m                                                 ~~~~~\u001b[0m\n",
      "    at \u001b[0m\u001b[36mfile:///var/folders/kw/gm1hxsgn0xd5x25trdphvhpm0000gn/T/1b1d67f01caa242a.ts\u001b[0m:\u001b[0m\u001b[33m3\u001b[0m:\u001b[0m\u001b[33m50\u001b[0m\n",
      "\n",
      "    The expected type comes from property 'right' which is declared here on type 'Pants<number, string>'\n",
      "      type Pants<T1, T2> = {left: T1, right: T2};\n",
      "    \u001b[0m\u001b[36m                                  ~~~~~\u001b[0m\n",
      "        at \u001b[0m\u001b[36mfile:///var/folders/kw/gm1hxsgn0xd5x25trdphvhpm0000gn/T/1b1d67f01caa242a.ts\u001b[0m:\u001b[0m\u001b[33m2\u001b[0m:\u001b[0m\u001b[33m35\u001b[0m\n"
     ]
    }
   ],
   "source": [
    "// Now let's model a pair of pants with left and right pockets that can contain different types...\n",
    "await checkTypeScript(`\n",
    "  type Pants<T1, T2> = {left: T1, right: T2};\n",
    "  let myPants: Pants<number, number> = {left: 1, right: 2}; myPants;\n",
    "`);\n",
    "\n",
    "await checkTypeScript(`\n",
    "  type Pants<T1, T2> = {left: T1, right: T2};\n",
    "  let myPants: Pants<number, string> = {left: 1, right: 'wallet'}; myPants;\n",
    "`);\n",
    "\n",
    "await checkTypeScript(`\n",
    "  type Pants<T1, T2> = {left: T1, right: T2};\n",
    "  let myPants: Pants<number, string> = {left: 1, right: 2}; myPants;\n",
    "`);"
   ]
  },
  {
   "cell_type": "code",
   "execution_count": 51,
   "metadata": {},
   "outputs": [
    {
     "data": {
      "text/plain": [
       "{ left: \u001b[33m1\u001b[39m, right: \u001b[32m\"wallet\"\u001b[39m }"
      ]
     },
     "execution_count": 51,
     "metadata": {},
     "output_type": "execute_result"
    }
   ],
   "source": [
    "// Using rather than typechecking...\n",
    "type Pants<T1, T2> = {left: T1, right: T2};\n",
    "let myPants: Pants<number, string> = {left: 1, right: 'wallet'};\n",
    "myPants;"
   ]
  },
  {
   "cell_type": "markdown",
   "metadata": {},
   "source": [
    "## Union Types\n",
    "\n",
    "Sometimes we want to allow multiple type options to be available. For this, we can use **union types**. A union type says \"the type can either be a or b or c\"."
   ]
  },
  {
   "cell_type": "code",
   "execution_count": 52,
   "metadata": {},
   "outputs": [
    {
     "name": "stdout",
     "output_type": "stream",
     "text": [
      "\u001b[0m\u001b[32mTypes are correct.\u001b[0m\n",
      "\u001b[0m\u001b[32mTypes are correct.\u001b[0m\n",
      "\u001b[0m\u001b[1m\u001b[31merror\u001b[0m: \u001b[0m\u001b[1mTS2322 \u001b[0m[ERROR]: Type 'boolean' is not assignable to type 'string | number'.\n",
      "let myVar: string | number = true;\n",
      "\u001b[0m\u001b[31m    ~~~~~\u001b[0m\n",
      "    at \u001b[0m\u001b[36mfile:///var/folders/kw/gm1hxsgn0xd5x25trdphvhpm0000gn/T/aeb8b9a1b3ca497f.ts\u001b[0m:\u001b[0m\u001b[33m1\u001b[0m:\u001b[0m\u001b[33m5\u001b[0m\n"
     ]
    }
   ],
   "source": [
    "// Given a union type of string | number, we can assign a string or a number to a variable of that type\n",
    "await checkTypeScript(`let myVar: string | number = 'a string';`);\n",
    "await checkTypeScript(`let myVar: string | number = 42;`);\n",
    "\n",
    "// However, we can't assign any other type, such as a boolean\n",
    "await checkTypeScript(`let myVar: string | number = true;`);"
   ]
  },
  {
   "cell_type": "markdown",
   "metadata": {},
   "source": [
    "## Optional Types\n",
    "\n",
    "Sometimes we want to have optional arguments to a function. How might we annotate those?"
   ]
  },
  {
   "cell_type": "code",
   "execution_count": 53,
   "metadata": {},
   "outputs": [
    {
     "name": "stdout",
     "output_type": "stream",
     "text": [
      "\u001b[0m\u001b[1m\u001b[31merror\u001b[0m: \u001b[0m\u001b[1mTS2554 \u001b[0m[ERROR]: Expected 2 arguments, but got 1.\n",
      "  concat('hello');\n",
      "\u001b[0m\u001b[31m  ~~~~~~\u001b[0m\n",
      "    at \u001b[0m\u001b[36mfile:///var/folders/kw/gm1hxsgn0xd5x25trdphvhpm0000gn/T/ec886a05dc7e070b.ts\u001b[0m:\u001b[0m\u001b[33m14\u001b[0m:\u001b[0m\u001b[33m3\u001b[0m\n",
      "\n",
      "    An argument for 'last' was not provided.\n",
      "      function concat(first: string, last: string): string {\n",
      "    \u001b[0m\u001b[36m                                 ~~~~~~~~~~~~\u001b[0m\n",
      "        at \u001b[0m\u001b[36mfile:///var/folders/kw/gm1hxsgn0xd5x25trdphvhpm0000gn/T/ec886a05dc7e070b.ts\u001b[0m:\u001b[0m\u001b[33m2\u001b[0m:\u001b[0m\u001b[33m34\u001b[0m\n"
     ]
    }
   ],
   "source": [
    "// If we annotate the type based on what we expect to be passed in,\n",
    "// we will fail a type check if we don't pass in both arguments\n",
    "await checkTypeScript(`\n",
    "  function concat(first: string, last: string): string {\n",
    "    if (!last) {\n",
    "      return first;\n",
    "    }\n",
    "\n",
    "    return first + ' ' + last;\n",
    "  }\n",
    "\n",
    "  // this will run just fine\n",
    "  concat('hello', 'world');\n",
    "\n",
    "  // this will throw a type error\n",
    "  concat('hello');\n",
    "`);"
   ]
  },
  {
   "cell_type": "code",
   "execution_count": 54,
   "metadata": {},
   "outputs": [
    {
     "name": "stdout",
     "output_type": "stream",
     "text": [
      "\u001b[0m\u001b[32mTypes are correct.\u001b[0m\n"
     ]
    }
   ],
   "source": [
    "// We can use an option type to allow for undefined values\n",
    "// (note we use `?:` rather than `:` in the function signature)\n",
    "await checkTypeScript(`\n",
    "  function concat(first: string, last?: string): string {\n",
    "    if (!last) {\n",
    "      return first;\n",
    "    }\n",
    "\n",
    "    return first + ' ' + last;\n",
    "  }\n",
    "\n",
    "  // these both work fine now\n",
    "  concat('hello', 'world');\n",
    "  concat('hello');\n",
    "`);"
   ]
  },
  {
   "cell_type": "markdown",
   "metadata": {},
   "source": [
    "The optional type is not just syntactic sugar for `string | undefined` as I first thought. Using that type signature would mean we would have to call the function like `concat(\"hello\", undefined)`. Calling `concat(\"hello\")` would still fail the type check."
   ]
  },
  {
   "cell_type": "code",
   "execution_count": 55,
   "metadata": {},
   "outputs": [
    {
     "name": "stdout",
     "output_type": "stream",
     "text": [
      "\u001b[0m\u001b[1m\u001b[31merror\u001b[0m: \u001b[0m\u001b[1mTS2554 \u001b[0m[ERROR]: Expected 2 arguments, but got 1.\n",
      "  concat('hello');\n",
      "\u001b[0m\u001b[31m  ~~~~~~\u001b[0m\n",
      "    at \u001b[0m\u001b[36mfile:///var/folders/kw/gm1hxsgn0xd5x25trdphvhpm0000gn/T/8ebfe935177241c3.ts\u001b[0m:\u001b[0m\u001b[33m11\u001b[0m:\u001b[0m\u001b[33m3\u001b[0m\n",
      "\n",
      "    An argument for 'last' was not provided.\n",
      "      function concat(first: string, last: string | undefined): string {\n",
      "    \u001b[0m\u001b[36m                                 ~~~~~~~~~~~~~~~~~~~~~~~~\u001b[0m\n",
      "        at \u001b[0m\u001b[36mfile:///var/folders/kw/gm1hxsgn0xd5x25trdphvhpm0000gn/T/8ebfe935177241c3.ts\u001b[0m:\u001b[0m\u001b[33m2\u001b[0m:\u001b[0m\u001b[33m34\u001b[0m\n"
     ]
    }
   ],
   "source": [
    "await checkTypeScript(`\n",
    "  function concat(first: string, last: string | undefined): string {\n",
    "    if (!last) {\n",
    "      return first;\n",
    "    }\n",
    "\n",
    "    return first + ' ' + last;\n",
    "  }\n",
    "\n",
    "  // this will throw a type error because the function still expects two arguments\n",
    "  concat('hello');\n",
    "`);"
   ]
  },
  {
   "cell_type": "markdown",
   "metadata": {},
   "source": [
    "We _can_ still pass in `undefined` if we want to when using optional types though..."
   ]
  },
  {
   "cell_type": "code",
   "execution_count": 56,
   "metadata": {},
   "outputs": [
    {
     "name": "stdout",
     "output_type": "stream",
     "text": [
      "\u001b[0m\u001b[32mTypes are correct.\u001b[0m\n"
     ]
    }
   ],
   "source": [
    "await checkTypeScript(`\n",
    "  function concat(first: string, last?: string): string {\n",
    "    if (!last) {\n",
    "      return first;\n",
    "    }\n",
    "\n",
    "    return first + ' ' + last;\n",
    "  }\n",
    "\n",
    "  // these will both work fine\n",
    "  concat('hello');\n",
    "  concat('hello', undefined);\n",
    "`);"
   ]
  },
  {
   "cell_type": "markdown",
   "metadata": {},
   "source": [
    "## Type Guards\n",
    "\n",
    "If a function uses **union types** we can optionally further set type guarantees within the function by using **type guards**.\n",
    "\n",
    "In the following example `Array.isArray()` is a type guard when used in an `if`. It guarantees that the code within its block will only run if `userOrUsers` is an array. Similarly, the `else` will only run if `userOrUsers` is _not_ an array. TypeScript knows that these amount to type guards. The `if` block only runs for type `User[]` and the else block only runs for type `User`."
   ]
  },
  {
   "cell_type": "code",
   "execution_count": 57,
   "metadata": {},
   "outputs": [
    {
     "name": "stdout",
     "output_type": "stream",
     "text": [
      "\u001b[0m\u001b[1m\u001b[31merror\u001b[0m: \u001b[0m\u001b[1mTS2339 \u001b[0m[ERROR]: Property 'name' does not exist on type 'User[]'.\n",
      "  userOrUsers.name;\n",
      "\u001b[0m\u001b[31m              ~~~~\u001b[0m\n",
      "    at \u001b[0m\u001b[36mfile:///var/folders/kw/gm1hxsgn0xd5x25trdphvhpm0000gn/T/499f554cf49ed543.ts\u001b[0m:\u001b[0m\u001b[33m16\u001b[0m:\u001b[0m\u001b[33m15\u001b[0m\n",
      "\u001b[0m\u001b[1m\u001b[31merror\u001b[0m: \u001b[0m\u001b[1mTS2339 \u001b[0m[ERROR]: Property 'length' does not exist on type 'User'.\n",
      "  userOrUsers.length;\n",
      "\u001b[0m\u001b[31m              ~~~~~~\u001b[0m\n",
      "    at \u001b[0m\u001b[36mfile:///var/folders/kw/gm1hxsgn0xd5x25trdphvhpm0000gn/T/9f873a16af52e71b.ts\u001b[0m:\u001b[0m\u001b[33m16\u001b[0m:\u001b[0m\u001b[33m15\u001b[0m\n",
      "\u001b[0m\u001b[32mTypes are correct.\u001b[0m\n"
     ]
    },
    {
     "data": {
      "text/plain": [
       "\u001b[32m\"name: Amir, length: 2\"\u001b[39m"
      ]
     },
     "execution_count": 57,
     "metadata": {},
     "output_type": "execute_result"
    }
   ],
   "source": [
    "await checkTypeScript(`\n",
    "  type User = { name: string };\n",
    "\n",
    "  function nameOrLength(userOrUsers: User | User[]): string | number {\n",
    "    if (Array.isArray(userOrUsers)) {\n",
    "      // Inside this side of the if, userOrUsers' type is User[].\n",
    "      return userOrUsers.length;\n",
    "    } else {\n",
    "      // Inside this side of the if, userOrUsers' type is User.\n",
    "      return userOrUsers.name;\n",
    "    }\n",
    "  }\n",
    "\n",
    "  const userOrUsers: User | User[] = [{name: 'Amir'}];\n",
    "  // we cannot call name on userOrUsers because it could be an array\n",
    "  userOrUsers.name;\n",
    "`);\n",
    "\n",
    "await checkTypeScript(`\n",
    "  type User = { name: string };\n",
    "\n",
    "  function nameOrLength(userOrUsers: User | User[]): string | number {\n",
    "    if (Array.isArray(userOrUsers)) {\n",
    "      // Inside this side of the if, userOrUsers' type is User[].\n",
    "      return userOrUsers.length;\n",
    "    } else {\n",
    "      // Inside this side of the if, userOrUsers' type is User.\n",
    "      return userOrUsers.name;\n",
    "    }\n",
    "  }\n",
    "\n",
    "  const userOrUsers: User | User[] = {name: 'Amir'};\n",
    "  // we cannot call length on userOrUsers because it could be a User\n",
    "  userOrUsers.length;\n",
    "`);\n",
    "\n",
    "await checkTypeScript(`\n",
    "  type User = { name: string };\n",
    "\n",
    "  function nameOrLength(userOrUsers: User | User[]): string | number {\n",
    "    if (Array.isArray(userOrUsers)) {\n",
    "      // Inside this side of the if, userOrUsers' type is User[].\n",
    "      return userOrUsers.length;\n",
    "    } else {\n",
    "      // Inside this side of the if, userOrUsers' type is User.\n",
    "      return userOrUsers.name;\n",
    "    }\n",
    "  }\n",
    "\n",
    "  // however we can call nameOrLength with a user or an array of users and it will work\n",
    "  nameOrLength({name: 'Amir'});\n",
    "  nameOrLength([{name: 'Amir'}, {name: 'Betty'}]);\n",
    "`);\n",
    "\n",
    "type User = { name: string };\n",
    "\n",
    "function nameOrLength(userOrUsers: User | User[]): string | number {\n",
    "  if (Array.isArray(userOrUsers)) {\n",
    "    // Inside this side of the if, userOrUsers' type is User[].\n",
    "    return userOrUsers.length;\n",
    "  } else {\n",
    "    // Inside this side of the if, userOrUsers' type is User.\n",
    "    return userOrUsers.name;\n",
    "  }\n",
    "}\n",
    "\n",
    "const name: string = nameOrLength({name: 'Amir'});\n",
    "const length: number = nameOrLength([{name: 'Amir'}, {name: 'Betty'}]);\n",
    "\n",
    "`name: ${name}, length: ${length}`;"
   ]
  },
  {
   "cell_type": "code",
   "execution_count": null,
   "metadata": {},
   "outputs": [],
   "source": []
  }
 ],
 "metadata": {
  "kernelspec": {
   "display_name": "Deno",
   "language": "typescript",
   "name": "deno"
  },
  "language_info": {
   "codemirror_mode": "typescript",
   "file_extension": ".ts",
   "mimetype": "text/x.typescript",
   "name": "typescript",
   "nbconvert_exporter": "script",
   "pygments_lexer": "typescript",
   "version": "5.6.2"
  }
 },
 "nbformat": 4,
 "nbformat_minor": 2
}
