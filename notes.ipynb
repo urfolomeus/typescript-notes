{
 "cells": [
  {
   "cell_type": "markdown",
   "metadata": {},
   "source": [
    "# Notes and Cheatsheet\n",
    "\n",
    "This is a summary of all the lessons learned so far."
   ]
  },
  {
   "cell_type": "markdown",
   "metadata": {},
   "source": [
    "In order to run applications we write in TypeScript, we need to compile the TypeScript files into JavaScript. We can either do this once with the `tsc` command, or we can watch (recursively) the current working directory with `tsc --watch` or `tsc -w`."
   ]
  },
  {
   "cell_type": "code",
   "execution_count": 1,
   "metadata": {},
   "outputs": [],
   "source": [
    "// import the typechecker function so that we can demo type checking inline\n",
    "import { checkTypeScript } from './utils/typechecker.ts';\n"
   ]
  },
  {
   "cell_type": "markdown",
   "metadata": {},
   "source": [
    "## A note on type checking\n",
    "\n",
    "TypeScript does not prevent us from running code that will error at runtime.\n"
   ]
  },
  {
   "cell_type": "code",
   "execution_count": 2,
   "metadata": {},
   "outputs": [
    {
     "data": {
      "text/plain": [
       "\u001b[33mNaN\u001b[39m"
      ]
     },
     "execution_count": 2,
     "metadata": {},
     "output_type": "execute_result"
    }
   ],
   "source": [
    "const double = (x: number): number => x * 2;\n",
    "double('anything');\n"
   ]
  },
  {
   "cell_type": "markdown",
   "metadata": {},
   "source": [
    "We're still able to call `double('anything')` and get `NaN` in response, just as we would with JavaScript. It's only when we compile or use a typechecker (as we do with the `checkTypeScript` function) that we see the error for a non-number argument value.\n"
   ]
  },
  {
   "cell_type": "code",
   "execution_count": 3,
   "metadata": {},
   "outputs": [
    {
     "name": "stdout",
     "output_type": "stream",
     "text": [
      "\u001b[0m\u001b[1m\u001b[31merror\u001b[0m: \u001b[0m\u001b[1mTS2345 \u001b[0m[ERROR]: Argument of type 'string' is not assignable to parameter of type 'number'.\n",
      "const double = (x: number): number => x * 2; double('anything');\n",
      "\u001b[0m\u001b[31m                                                    ~~~~~~~~~~\u001b[0m\n",
      "    at \u001b[0m\u001b[36mfile:///var/folders/kw/gm1hxsgn0xd5x25trdphvhpm0000gn/T/e205fb3fc1b0062.ts\u001b[0m:\u001b[0m\u001b[33m1\u001b[0m:\u001b[0m\u001b[33m53\u001b[0m\n"
     ]
    }
   ],
   "source": [
    "await checkTypeScript(`const double = (x: number): number => x * 2; double('anything');`);"
   ]
  },
  {
   "cell_type": "markdown",
   "metadata": {},
   "source": [
    "Our IDE may also provide type hints to help us."
   ]
  },
  {
   "cell_type": "markdown",
   "metadata": {},
   "source": [
    "## Variables\n",
    "\n",
    "A variable has a type. The type is separated from the variable name with `:`."
   ]
  },
  {
   "cell_type": "code",
   "execution_count": 4,
   "metadata": {},
   "outputs": [
    {
     "data": {
      "text/plain": [
       "\u001b[33m3\u001b[39m"
      ]
     },
     "execution_count": 4,
     "metadata": {},
     "output_type": "execute_result"
    }
   ],
   "source": [
    "// type annotations\n",
    "let sum: number = 1 + 2;\n",
    "sum;"
   ]
  },
  {
   "cell_type": "code",
   "execution_count": 5,
   "metadata": {},
   "outputs": [
    {
     "name": "stdout",
     "output_type": "stream",
     "text": [
      "\u001b[0m\u001b[32mTypes are correct.\u001b[0m\n"
     ]
    }
   ],
   "source": [
    "// check the type of sum\n",
    "await checkTypeScript(`let sum: number = 1 + 2;`);\n"
   ]
  },
  {
   "cell_type": "code",
   "execution_count": 6,
   "metadata": {},
   "outputs": [
    {
     "data": {
      "text/plain": [
       "\u001b[32m\"anything\"\u001b[39m"
      ]
     },
     "execution_count": 6,
     "metadata": {},
     "output_type": "execute_result"
    }
   ],
   "source": [
    "// type annotations\n",
    "let sum: number = 'any' + 'thing';\n",
    "sum;"
   ]
  },
  {
   "cell_type": "code",
   "execution_count": 7,
   "metadata": {},
   "outputs": [
    {
     "name": "stdout",
     "output_type": "stream",
     "text": [
      "\u001b[0m\u001b[1m\u001b[31merror\u001b[0m: \u001b[0m\u001b[1mTS2322 \u001b[0m[ERROR]: Type 'string' is not assignable to type 'number'.\n",
      "let sum: number = 'any' + 'thing';\n",
      "\u001b[0m\u001b[31m    ~~~\u001b[0m\n",
      "    at \u001b[0m\u001b[36mfile:///var/folders/kw/gm1hxsgn0xd5x25trdphvhpm0000gn/T/f749753bb087b902.ts\u001b[0m:\u001b[0m\u001b[33m1\u001b[0m:\u001b[0m\u001b[33m5\u001b[0m\n"
     ]
    }
   ],
   "source": [
    "// type errors\n",
    "await checkTypeScript(`let sum: number = 'any' + 'thing';`);\n"
   ]
  },
  {
   "cell_type": "markdown",
   "metadata": {},
   "source": [
    "## Functions\n",
    "\n",
    "A function takes arguments, which have types. The function returns something, which also has a type. The types are marked with `:`, as they were for simple variables."
   ]
  },
  {
   "cell_type": "code",
   "execution_count": 8,
   "metadata": {},
   "outputs": [],
   "source": [
    "function add(a: number, b: number): number {\n",
    "  return a + b;\n",
    "}"
   ]
  },
  {
   "cell_type": "code",
   "execution_count": 9,
   "metadata": {},
   "outputs": [
    {
     "data": {
      "text/plain": [
       "\u001b[33m3\u001b[39m"
      ]
     },
     "execution_count": 9,
     "metadata": {},
     "output_type": "execute_result"
    }
   ],
   "source": [
    "add(1, 2);\n"
   ]
  },
  {
   "cell_type": "code",
   "execution_count": 10,
   "metadata": {},
   "outputs": [
    {
     "name": "stdout",
     "output_type": "stream",
     "text": [
      "\u001b[0m\u001b[32mTypes are correct.\u001b[0m\n"
     ]
    }
   ],
   "source": [
    "await checkTypeScript(`function add(a: number, b: number): number { return a + b; }; add(1, 2);`);\n"
   ]
  },
  {
   "cell_type": "markdown",
   "metadata": {},
   "source": [
    "**NOTE**: if we don't set a type explicitly for our params then they will default to `any`.\n",
    "\n",
    "**NOTE**: we need to declare the type for each param, even if two or more share the same type. For example, the following will make the type of `a` equal to `any` _not_ `number`:"
   ]
  },
  {
   "cell_type": "code",
   "execution_count": 11,
   "metadata": {},
   "outputs": [
    {
     "name": "stdout",
     "output_type": "stream",
     "text": [
      "\u001b[0m\u001b[1m\u001b[31merror\u001b[0m: \u001b[0m\u001b[1mTS7006 \u001b[0m[ERROR]: Parameter 'a' implicitly has an 'any' type.\n",
      "function add(a, b: number): number { return a + b; }; add(1, 2);\n",
      "\u001b[0m\u001b[31m             ^\u001b[0m\n",
      "    at \u001b[0m\u001b[36mfile:///var/folders/kw/gm1hxsgn0xd5x25trdphvhpm0000gn/T/971d9c55b9796afa.ts\u001b[0m:\u001b[0m\u001b[33m1\u001b[0m:\u001b[0m\u001b[33m14\u001b[0m\n"
     ]
    }
   ],
   "source": [
    "await checkTypeScript(`function add(a, b: number): number { return a + b; }; add(1, 2);`);\n"
   ]
  },
  {
   "cell_type": "markdown",
   "metadata": {},
   "source": [
    "### This is what TypeScript was designed for\n",
    "\n",
    "If we pass `true` in to the add function it appears to work, we get the number `2` as a result, but this is because JavaScript implicitly converts `true` to `1` (and `false` to `0`)."
   ]
  },
  {
   "cell_type": "code",
   "execution_count": 12,
   "metadata": {},
   "outputs": [
    {
     "data": {
      "text/plain": [
       "\u001b[33m2\u001b[39m"
      ]
     },
     "execution_count": 12,
     "metadata": {},
     "output_type": "execute_result"
    }
   ],
   "source": [
    "add(1, true)  // true is implicitly converted to 1 by the JavaScript runtime"
   ]
  },
  {
   "cell_type": "markdown",
   "metadata": {},
   "source": [
    "However, with the type checker (or compiler), will return an error because we're trying to use a boolean instead of a number."
   ]
  },
  {
   "cell_type": "code",
   "execution_count": 13,
   "metadata": {},
   "outputs": [
    {
     "name": "stdout",
     "output_type": "stream",
     "text": [
      "\u001b[0m\u001b[1m\u001b[31merror\u001b[0m: \u001b[0m\u001b[1mTS2345 \u001b[0m[ERROR]: Argument of type 'boolean' is not assignable to parameter of type 'number'.\n",
      "function add(a: number, b: number): number { return a + b; }; add(1, true);\n",
      "\u001b[0m\u001b[31m                                                                     ~~~~\u001b[0m\n",
      "    at \u001b[0m\u001b[36mfile:///var/folders/kw/gm1hxsgn0xd5x25trdphvhpm0000gn/T/dfe25518ed5f28c8.ts\u001b[0m:\u001b[0m\u001b[33m1\u001b[0m:\u001b[0m\u001b[33m70\u001b[0m\n"
     ]
    }
   ],
   "source": [
    "await checkTypeScript(`function add(a: number, b: number): number { return a + b; }; add(1, true);`);\n"
   ]
  },
  {
   "cell_type": "markdown",
   "metadata": {},
   "source": [
    "## Operators\n"
   ]
  },
  {
   "cell_type": "code",
   "execution_count": 14,
   "metadata": {},
   "outputs": [
    {
     "name": "stdout",
     "output_type": "stream",
     "text": [
      "2\n",
      "4\n",
      "11\n",
      "11\n",
      "11\n",
      "4\n",
      "2\n",
      "1\n",
      "1\n"
     ]
    }
   ],
   "source": [
    "// these should run just fine\n",
    "console.log(1 + 1);\n",
    "console.log(2 * 2);\n",
    "console.log('1' + '1'); // TypeScript allows string concatenation with `+`\n",
    "\n",
    "// NOTE: TypeScript will also allow mixed concatenation of strings and numbers\n",
    "console.log('1' + 1);\n",
    "console.log(1 + '1');\n",
    "\n",
    "// these should throw type errors but will \"work\" at runtime\n",
    "console.log('2' * '2');\n",
    "console.log('4' / '2');\n",
    "console.log(1 / '1');\n",
    "console.log('1' / 1);\n"
   ]
  },
  {
   "cell_type": "code",
   "execution_count": 15,
   "metadata": {},
   "outputs": [
    {
     "name": "stdout",
     "output_type": "stream",
     "text": [
      "\u001b[0m\u001b[32mTypes are correct.\u001b[0m\n",
      "\u001b[0m\u001b[32mTypes are correct.\u001b[0m\n",
      "\u001b[0m\u001b[32mTypes are correct.\u001b[0m\n",
      "\u001b[0m\u001b[32mTypes are correct.\u001b[0m\n",
      "\u001b[0m\u001b[32mTypes are correct.\u001b[0m\n",
      "\u001b[0m\u001b[1m\u001b[31merror\u001b[0m: \u001b[0m\u001b[1mTS2362 \u001b[0m[ERROR]: The left-hand side of an arithmetic operation must be of type 'any', 'number', 'bigint' or an enum type.\n",
      "console.log('2' * '2');\n",
      "\u001b[0m\u001b[31m            ~~~\u001b[0m\n",
      "    at \u001b[0m\u001b[36mfile:///var/folders/kw/gm1hxsgn0xd5x25trdphvhpm0000gn/T/923e283741981e8c.ts\u001b[0m:\u001b[0m\u001b[33m1\u001b[0m:\u001b[0m\u001b[33m13\u001b[0m\n",
      "\n",
      "\u001b[0m\u001b[1mTS2363 \u001b[0m[ERROR]: The right-hand side of an arithmetic operation must be of type 'any', 'number', 'bigint' or an enum type.\n",
      "console.log('2' * '2');\n",
      "\u001b[0m\u001b[31m                  ~~~\u001b[0m\n",
      "    at \u001b[0m\u001b[36mfile:///var/folders/kw/gm1hxsgn0xd5x25trdphvhpm0000gn/T/923e283741981e8c.ts\u001b[0m:\u001b[0m\u001b[33m1\u001b[0m:\u001b[0m\u001b[33m19\u001b[0m\n",
      "\n",
      "Found 2 errors.\n",
      "\u001b[0m\u001b[1m\u001b[31merror\u001b[0m: \u001b[0m\u001b[1mTS2362 \u001b[0m[ERROR]: The left-hand side of an arithmetic operation must be of type 'any', 'number', 'bigint' or an enum type.\n",
      "console.log('4' / '2');\n",
      "\u001b[0m\u001b[31m            ~~~\u001b[0m\n",
      "    at \u001b[0m\u001b[36mfile:///var/folders/kw/gm1hxsgn0xd5x25trdphvhpm0000gn/T/5d8fbaef8b270692.ts\u001b[0m:\u001b[0m\u001b[33m1\u001b[0m:\u001b[0m\u001b[33m13\u001b[0m\n",
      "\n",
      "\u001b[0m\u001b[1mTS2363 \u001b[0m[ERROR]: The right-hand side of an arithmetic operation must be of type 'any', 'number', 'bigint' or an enum type.\n",
      "console.log('4' / '2');\n",
      "\u001b[0m\u001b[31m                  ~~~\u001b[0m\n",
      "    at \u001b[0m\u001b[36mfile:///var/folders/kw/gm1hxsgn0xd5x25trdphvhpm0000gn/T/5d8fbaef8b270692.ts\u001b[0m:\u001b[0m\u001b[33m1\u001b[0m:\u001b[0m\u001b[33m19\u001b[0m\n",
      "\n",
      "Found 2 errors.\n",
      "\u001b[0m\u001b[1m\u001b[31merror\u001b[0m: \u001b[0m\u001b[1mTS2363 \u001b[0m[ERROR]: The right-hand side of an arithmetic operation must be of type 'any', 'number', 'bigint' or an enum type.\n",
      "console.log(1 / '1');\n",
      "\u001b[0m\u001b[31m                ~~~\u001b[0m\n",
      "    at \u001b[0m\u001b[36mfile:///var/folders/kw/gm1hxsgn0xd5x25trdphvhpm0000gn/T/7447ed25fefb7b1b.ts\u001b[0m:\u001b[0m\u001b[33m1\u001b[0m:\u001b[0m\u001b[33m17\u001b[0m\n",
      "\u001b[0m\u001b[1m\u001b[31merror\u001b[0m: \u001b[0m\u001b[1mTS2362 \u001b[0m[ERROR]: The left-hand side of an arithmetic operation must be of type 'any', 'number', 'bigint' or an enum type.\n",
      "console.log('1' / 1);\n",
      "\u001b[0m\u001b[31m            ~~~\u001b[0m\n",
      "    at \u001b[0m\u001b[36mfile:///var/folders/kw/gm1hxsgn0xd5x25trdphvhpm0000gn/T/6416cfca7472b683.ts\u001b[0m:\u001b[0m\u001b[33m1\u001b[0m:\u001b[0m\u001b[33m13\u001b[0m\n"
     ]
    }
   ],
   "source": [
    "// these should check just fine\n",
    "await checkTypeScript(`console.log(1 + 1);`);\n",
    "await checkTypeScript(`console.log(2 * 2);`);\n",
    "await checkTypeScript(`console.log('1' + '1');`); // TypeScript allows string concatenation with `+`\n",
    "\n",
    "// NOTE: TypeScript will also allow mixed concatenation of strings and numbers\n",
    "await checkTypeScript(`console.log('1' + 1);`);\n",
    "await checkTypeScript(`console.log(1 + '1');`);\n",
    "\n",
    "// these should throw type errors\n",
    "await checkTypeScript(`console.log('2' * '2');`);\n",
    "await checkTypeScript(`console.log('4' / '2');`);\n",
    "await checkTypeScript(`console.log(1 / '1');`);\n",
    "await checkTypeScript(`console.log('1' / 1);`);\n"
   ]
  },
  {
   "cell_type": "markdown",
   "metadata": {},
   "source": [
    "# Types\n",
    "\n",
    "Types can be defined using the `type` keyword. Types are idiomatically named using `UpperCamelCase`."
   ]
  },
  {
   "cell_type": "code",
   "execution_count": 16,
   "metadata": {},
   "outputs": [
    {
     "data": {
      "text/plain": [
       "\u001b[32m\"Hello, world!\"\u001b[39m"
      ]
     },
     "execution_count": 16,
     "metadata": {},
     "output_type": "execute_result"
    }
   ],
   "source": [
    "type MyStringType = string;\n",
    "let myString: MyStringType = 'Hello, world!';\n",
    "myString;"
   ]
  },
  {
   "cell_type": "markdown",
   "metadata": {},
   "source": [
    "## The \"types\" of types\n",
    "\n",
    "TypeScript has different types of types that it can use. [This page](https://www.typescriptlang.org/docs/handbook/2/everyday-types.html) in the TypeScript docs explains them.\n"
   ]
  },
  {
   "cell_type": "markdown",
   "metadata": {},
   "source": [
    "## Type Erasure\n",
    "\n",
    "The TypeScript compiler works by reading through a TypeScript file and looking for any type annotations. It checks any types it finds and then **removes the TypeScript code** turning it into plain JavaScript.\n",
    "\n",
    "This means that our runtime code contains no TypeScript, so we can't do things like inspect types at runtime."
   ]
  },
  {
   "cell_type": "markdown",
   "metadata": {},
   "source": [
    "## Generic Types\n",
    "\n",
    "We can declare our own generic types as follows:"
   ]
  },
  {
   "cell_type": "code",
   "execution_count": 17,
   "metadata": {},
   "outputs": [
    {
     "name": "stdout",
     "output_type": "stream",
     "text": [
      "\u001b[0m\u001b[32mTypes are correct.\u001b[0m\n",
      "\u001b[0m\u001b[32mTypes are correct.\u001b[0m\n",
      "\u001b[0m\u001b[1m\u001b[31merror\u001b[0m: \u001b[0m\u001b[1mTS2322 \u001b[0m[ERROR]: Type 'string' is not assignable to type 'number'.\n",
      "  let myPants: Pants<number> = {left: 1, right: 'wallet'}; myPants;\n",
      "\u001b[0m\u001b[31m                                         ~~~~~\u001b[0m\n",
      "    at \u001b[0m\u001b[36mfile:///var/folders/kw/gm1hxsgn0xd5x25trdphvhpm0000gn/T/ce1644d10895e1d9.ts\u001b[0m:\u001b[0m\u001b[33m3\u001b[0m:\u001b[0m\u001b[33m42\u001b[0m\n",
      "\n",
      "    The expected type comes from property 'right' which is declared here on type 'Pants<number>'\n",
      "      type Pants<T> = {left: T, right: T};\n",
      "    \u001b[0m\u001b[36m                            ~~~~~\u001b[0m\n",
      "        at \u001b[0m\u001b[36mfile:///var/folders/kw/gm1hxsgn0xd5x25trdphvhpm0000gn/T/ce1644d10895e1d9.ts\u001b[0m:\u001b[0m\u001b[33m2\u001b[0m:\u001b[0m\u001b[33m29\u001b[0m\n"
     ]
    }
   ],
   "source": [
    "// Let's model a pair of pants with left and right pockets...\n",
    "\n",
    "// ... in this instance, both pockets must contain the same type, but that type can be anything we want\n",
    "await checkTypeScript(`\n",
    "  type Pants<T> = {left: T, right: T};\n",
    "  let myPants: Pants<number> = {left: 1, right: 2}; myPants;\n",
    "`);\n",
    "\n",
    "await checkTypeScript(`\n",
    "  type Pants<T> = {left: T, right: T};\n",
    "  let myPants: Pants<string> = {left: 'phone', right: 'wallet'}; myPants;\n",
    "`);\n",
    "\n",
    "await checkTypeScript(`\n",
    "  type Pants<T> = {left: T, right: T};\n",
    "  let myPants: Pants<number> = {left: 1, right: 'wallet'}; myPants;\n",
    "`);"
   ]
  },
  {
   "cell_type": "code",
   "execution_count": 18,
   "metadata": {},
   "outputs": [
    {
     "name": "stdout",
     "output_type": "stream",
     "text": [
      "\u001b[0m\u001b[32mTypes are correct.\u001b[0m\n",
      "\u001b[0m\u001b[32mTypes are correct.\u001b[0m\n",
      "\u001b[0m\u001b[1m\u001b[31merror\u001b[0m: \u001b[0m\u001b[1mTS2322 \u001b[0m[ERROR]: Type 'number' is not assignable to type 'string'.\n",
      "  let myPants: Pants<number, string> = {left: 1, right: 2}; myPants;\n",
      "\u001b[0m\u001b[31m                                                 ~~~~~\u001b[0m\n",
      "    at \u001b[0m\u001b[36mfile:///var/folders/kw/gm1hxsgn0xd5x25trdphvhpm0000gn/T/ea45fd87704d608a.ts\u001b[0m:\u001b[0m\u001b[33m3\u001b[0m:\u001b[0m\u001b[33m50\u001b[0m\n",
      "\n",
      "    The expected type comes from property 'right' which is declared here on type 'Pants<number, string>'\n",
      "      type Pants<T1, T2> = {left: T1, right: T2};\n",
      "    \u001b[0m\u001b[36m                                  ~~~~~\u001b[0m\n",
      "        at \u001b[0m\u001b[36mfile:///var/folders/kw/gm1hxsgn0xd5x25trdphvhpm0000gn/T/ea45fd87704d608a.ts\u001b[0m:\u001b[0m\u001b[33m2\u001b[0m:\u001b[0m\u001b[33m35\u001b[0m\n"
     ]
    }
   ],
   "source": [
    "// Now let's model a pair of pants with left and right pockets that can contain different types...\n",
    "await checkTypeScript(`\n",
    "  type Pants<T1, T2> = {left: T1, right: T2};\n",
    "  let myPants: Pants<number, number> = {left: 1, right: 2}; myPants;\n",
    "`);\n",
    "\n",
    "await checkTypeScript(`\n",
    "  type Pants<T1, T2> = {left: T1, right: T2};\n",
    "  let myPants: Pants<number, string> = {left: 1, right: 'wallet'}; myPants;\n",
    "`);\n",
    "\n",
    "await checkTypeScript(`\n",
    "  type Pants<T1, T2> = {left: T1, right: T2};\n",
    "  let myPants: Pants<number, string> = {left: 1, right: 2}; myPants;\n",
    "`);"
   ]
  },
  {
   "cell_type": "code",
   "execution_count": 19,
   "metadata": {},
   "outputs": [
    {
     "data": {
      "text/plain": [
       "{ left: \u001b[33m1\u001b[39m, right: \u001b[32m\"wallet\"\u001b[39m }"
      ]
     },
     "execution_count": 19,
     "metadata": {},
     "output_type": "execute_result"
    }
   ],
   "source": [
    "// Using rather than typechecking...\n",
    "type Pants<T1, T2> = {left: T1, right: T2};\n",
    "let myPants: Pants<number, string> = {left: 1, right: 'wallet'};\n",
    "myPants;"
   ]
  },
  {
   "cell_type": "markdown",
   "metadata": {},
   "source": [
    "## Union Types\n",
    "\n",
    "Sometimes we want to allow multiple type options to be available. For this, we can use **union types**. A union type says \"the type can either be a or b or c\"."
   ]
  },
  {
   "cell_type": "code",
   "execution_count": 26,
   "metadata": {},
   "outputs": [
    {
     "name": "stdout",
     "output_type": "stream",
     "text": [
      "\u001b[0m\u001b[32mTypes are correct.\u001b[0m\n",
      "\u001b[0m\u001b[32mTypes are correct.\u001b[0m\n",
      "\u001b[0m\u001b[1m\u001b[31merror\u001b[0m: \u001b[0m\u001b[1mTS2322 \u001b[0m[ERROR]: Type 'boolean' is not assignable to type 'string | number'.\n",
      "let myVar: string | number = true;\n",
      "\u001b[0m\u001b[31m    ~~~~~\u001b[0m\n",
      "    at \u001b[0m\u001b[36mfile:///var/folders/kw/gm1hxsgn0xd5x25trdphvhpm0000gn/T/988481261764a0cf.ts\u001b[0m:\u001b[0m\u001b[33m1\u001b[0m:\u001b[0m\u001b[33m5\u001b[0m\n"
     ]
    }
   ],
   "source": [
    "// Given a union type of string | number, we can assign a string or a number to a variable of that type\n",
    "await checkTypeScript(`let myVar: string | number = 'a string';`);\n",
    "await checkTypeScript(`let myVar: string | number = 42;`);\n",
    "\n",
    "// However, we can't assign any other type, such as a boolean\n",
    "await checkTypeScript(`let myVar: string | number = true;`);"
   ]
  },
  {
   "cell_type": "markdown",
   "metadata": {},
   "source": [
    "## Type Guards\n",
    "\n",
    "If a function uses **union types** we can optionally further set type guarantees within the function by using **type guards**.\n",
    "\n",
    "In the following example `Array.isArray()` is a type guard when used in an `if`. It guarantees that the code within its block will only run if `userOrUsers` is an array. Similarly, the `else` will only run if `userOrUsers` is _not_ an array. TypeScript knows that these amount to type guards. The `if` block only runs for type `User[]` and the else block only runs for type `User`."
   ]
  },
  {
   "cell_type": "code",
   "execution_count": 25,
   "metadata": {},
   "outputs": [
    {
     "name": "stdout",
     "output_type": "stream",
     "text": [
      "\u001b[0m\u001b[1m\u001b[31merror\u001b[0m: \u001b[0m\u001b[1mTS2339 \u001b[0m[ERROR]: Property 'name' does not exist on type 'User[]'.\n",
      "  userOrUsers.name;\n",
      "\u001b[0m\u001b[31m              ~~~~\u001b[0m\n",
      "    at \u001b[0m\u001b[36mfile:///var/folders/kw/gm1hxsgn0xd5x25trdphvhpm0000gn/T/7f411802f6c020b4.ts\u001b[0m:\u001b[0m\u001b[33m16\u001b[0m:\u001b[0m\u001b[33m15\u001b[0m\n",
      "\u001b[0m\u001b[1m\u001b[31merror\u001b[0m: \u001b[0m\u001b[1mTS2339 \u001b[0m[ERROR]: Property 'length' does not exist on type 'User'.\n",
      "  userOrUsers.length;\n",
      "\u001b[0m\u001b[31m              ~~~~~~\u001b[0m\n",
      "    at \u001b[0m\u001b[36mfile:///var/folders/kw/gm1hxsgn0xd5x25trdphvhpm0000gn/T/1dbb8a58c07ba049.ts\u001b[0m:\u001b[0m\u001b[33m16\u001b[0m:\u001b[0m\u001b[33m15\u001b[0m\n",
      "\u001b[0m\u001b[32mTypes are correct.\u001b[0m\n"
     ]
    },
    {
     "data": {
      "text/plain": [
       "\u001b[32m\"name: Amir, length: 2\"\u001b[39m"
      ]
     },
     "execution_count": 25,
     "metadata": {},
     "output_type": "execute_result"
    }
   ],
   "source": [
    "await checkTypeScript(`\n",
    "  type User = { name: string };\n",
    "\n",
    "  function nameOrLength(userOrUsers: User | User[]): string | number {\n",
    "    if (Array.isArray(userOrUsers)) {\n",
    "      // Inside this side of the if, userOrUsers' type is User[].\n",
    "      return userOrUsers.length;\n",
    "    } else {\n",
    "      // Inside this side of the if, userOrUsers' type is User.\n",
    "      return userOrUsers.name;\n",
    "    }\n",
    "  }\n",
    "\n",
    "  const userOrUsers: User | User[] = [{name: 'Amir'}];\n",
    "  // we cannot call name on userOrUsers because it could be an array\n",
    "  userOrUsers.name;\n",
    "`);\n",
    "\n",
    "await checkTypeScript(`\n",
    "  type User = { name: string };\n",
    "\n",
    "  function nameOrLength(userOrUsers: User | User[]): string | number {\n",
    "    if (Array.isArray(userOrUsers)) {\n",
    "      // Inside this side of the if, userOrUsers' type is User[].\n",
    "      return userOrUsers.length;\n",
    "    } else {\n",
    "      // Inside this side of the if, userOrUsers' type is User.\n",
    "      return userOrUsers.name;\n",
    "    }\n",
    "  }\n",
    "\n",
    "  const userOrUsers: User | User[] = {name: 'Amir'};\n",
    "  // we cannot call length on userOrUsers because it could be a User\n",
    "  userOrUsers.length;\n",
    "`);\n",
    "\n",
    "await checkTypeScript(`\n",
    "  type User = { name: string };\n",
    "\n",
    "  function nameOrLength(userOrUsers: User | User[]): string | number {\n",
    "    if (Array.isArray(userOrUsers)) {\n",
    "      // Inside this side of the if, userOrUsers' type is User[].\n",
    "      return userOrUsers.length;\n",
    "    } else {\n",
    "      // Inside this side of the if, userOrUsers' type is User.\n",
    "      return userOrUsers.name;\n",
    "    }\n",
    "  }\n",
    "\n",
    "  // however we can call nameOrLength with a user or an array of users and it will work\n",
    "  nameOrLength({name: 'Amir'});\n",
    "  nameOrLength([{name: 'Amir'}, {name: 'Betty'}]);\n",
    "`);\n",
    "\n",
    "type User = { name: string };\n",
    "\n",
    "function nameOrLength(userOrUsers: User | User[]): string | number {\n",
    "  if (Array.isArray(userOrUsers)) {\n",
    "    // Inside this side of the if, userOrUsers' type is User[].\n",
    "    return userOrUsers.length;\n",
    "  } else {\n",
    "    // Inside this side of the if, userOrUsers' type is User.\n",
    "    return userOrUsers.name;\n",
    "  }\n",
    "}\n",
    "\n",
    "const name: string = nameOrLength({name: 'Amir'});\n",
    "const length: number = nameOrLength([{name: 'Amir'}, {name: 'Betty'}]);\n",
    "\n",
    "`name: ${name}, length: ${length}`;"
   ]
  },
  {
   "cell_type": "code",
   "execution_count": null,
   "metadata": {},
   "outputs": [],
   "source": []
  }
 ],
 "metadata": {
  "kernelspec": {
   "display_name": "Deno",
   "language": "typescript",
   "name": "deno"
  },
  "language_info": {
   "codemirror_mode": "typescript",
   "file_extension": ".ts",
   "mimetype": "text/x.typescript",
   "name": "typescript",
   "nbconvert_exporter": "script",
   "pygments_lexer": "typescript",
   "version": "5.6.2"
  }
 },
 "nbformat": 4,
 "nbformat_minor": 2
}
