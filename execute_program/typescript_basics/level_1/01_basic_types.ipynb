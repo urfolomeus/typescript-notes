{
 "cells": [
  {
   "cell_type": "markdown",
   "metadata": {},
   "source": [
    "# TypeScript Basics\n",
    "\n",
    "## Basic Types\n",
    "\n",
    "In TypeScript we specify the type of a variable with a **type annotation** like so:"
   ]
  },
  {
   "cell_type": "code",
   "execution_count": 2,
   "metadata": {},
   "outputs": [],
   "source": [
    "import { checkTypeScript } from '../../../utils/typechecker.ts';"
   ]
  },
  {
   "cell_type": "code",
   "execution_count": 3,
   "metadata": {},
   "outputs": [
    {
     "data": {
      "text/plain": [
       "\u001b[33m3\u001b[39m"
      ]
     },
     "execution_count": 3,
     "metadata": {},
     "output_type": "execute_result"
    }
   ],
   "source": [
    "let sum: number = 1 + 2;\n",
    "sum;"
   ]
  },
  {
   "cell_type": "code",
   "execution_count": 4,
   "metadata": {},
   "outputs": [
    {
     "data": {
      "text/plain": [
       "\u001b[32m\"anything\"\u001b[39m"
      ]
     },
     "execution_count": 4,
     "metadata": {},
     "output_type": "execute_result"
    }
   ],
   "source": [
    "let anything: string = 'any' + 'thing';\n",
    "anything;"
   ]
  },
  {
   "cell_type": "markdown",
   "metadata": {},
   "source": [
    "If we assign a value of the wrong type to a variable, we'll get a **type error**, like so:"
   ]
  },
  {
   "cell_type": "code",
   "execution_count": 5,
   "metadata": {},
   "outputs": [
    {
     "data": {
      "text/plain": [
       "\u001b[32m\"anything\"\u001b[39m"
      ]
     },
     "execution_count": 5,
     "metadata": {},
     "output_type": "execute_result"
    }
   ],
   "source": [
    "// NOTE: this should throw a type error but Deno will only check the type\n",
    "// at compile time, not at runtime. We can use the `--check` flag to check\n",
    "// the types at runtime, but we can't do that inside a jupyter notebook.\n",
    "\n",
    "// This code will pass\n",
    "let sum: number = 'any' + 'thing';\n",
    "sum;\n"
   ]
  },
  {
   "cell_type": "code",
   "execution_count": 6,
   "metadata": {},
   "outputs": [
    {
     "name": "stdout",
     "output_type": "stream",
     "text": [
      "\u001b[0m\u001b[32mCheck\u001b[0m file:///var/folders/zf/zz1ks5y12dq092v3_0j1rcg00000gn/T/2b52cc037451cd94.ts\n",
      "\u001b[0m\u001b[1m\u001b[31merror\u001b[0m: \u001b[0m\u001b[1mTS2322 \u001b[0m[ERROR]: Type 'string' is not assignable to type 'number'.\n",
      "let sum: number = 'any' + 'thing';\n",
      "\u001b[0m\u001b[31m    ~~~\u001b[0m\n",
      "    at \u001b[0m\u001b[36mfile:///var/folders/zf/zz1ks5y12dq092v3_0j1rcg00000gn/T/2b52cc037451cd94.ts\u001b[0m:\u001b[0m\u001b[33m1\u001b[0m:\u001b[0m\u001b[33m5\u001b[0m\n"
     ]
    }
   ],
   "source": [
    "// NOTE: if we want to check the type at runtime, we can use the `checkTypeScript`\n",
    "// function from the `typechecker.ts` file in the utils directory.\n",
    "const code = `let sum: number = 'any' + 'thing';`;\n",
    "const result = await checkTypeScript(code);\n",
    "console.log(result);"
   ]
  }
 ],
 "metadata": {
  "kernelspec": {
   "display_name": "Deno",
   "language": "typescript",
   "name": "deno"
  },
  "language_info": {
   "codemirror_mode": "typescript",
   "file_extension": ".ts",
   "mimetype": "text/x.typescript",
   "name": "typescript",
   "nbconvert_exporter": "script",
   "pygments_lexer": "typescript",
   "version": "5.6.2"
  }
 },
 "nbformat": 4,
 "nbformat_minor": 2
}
